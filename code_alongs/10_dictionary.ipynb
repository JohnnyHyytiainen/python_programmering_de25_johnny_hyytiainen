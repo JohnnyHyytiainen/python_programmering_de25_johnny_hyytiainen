{
 "cells": [
  {
   "cell_type": "markdown",
   "id": "0",
   "metadata": {},
   "source": [
    "# Lecture 10 dictionarys (dict)\n",
    "- dicts are also a collection data type.\n",
    " - what differs from dicts compared to lists, tuples, sets.\n",
    "  - the data is stored in key:value pairs.\n",
    "  - dict's are kind of mutable. Dict keys are immutable while values are mutable."
   ]
  },
  {
   "cell_type": "markdown",
   "id": "1",
   "metadata": {},
   "source": [
    "#### Create a dictionary with dict() class"
   ]
  },
  {
   "cell_type": "code",
   "execution_count": null,
   "id": "2",
   "metadata": {},
   "outputs": [],
   "source": [
    "# instantiate a dict object called person\n",
    "\n",
    "person = dict(\n",
    "    name = \"Pelle\",\n",
    "    age = 33.5,\n",
    "    work = \"clown\"\n",
    "\n",
    ")"
   ]
  },
  {
   "cell_type": "code",
   "execution_count": null,
   "id": "3",
   "metadata": {},
   "outputs": [],
   "source": [
    "# retrieve the data from the dict above\n",
    "# make use of the key for each value\n",
    "print(person[\"name\"]) # compared to indexing in a list like list_a[0]\n",
    "print(person[\"work\"])"
   ]
  },
  {
   "cell_type": "markdown",
   "id": "4",
   "metadata": {},
   "source": [
    "#### Create a dict(inonary) with { }\n",
    " - You can use the curly braces to create a dict as well in python\n"
   ]
  },
  {
   "cell_type": "code",
   "execution_count": null,
   "id": "5",
   "metadata": {},
   "outputs": [],
   "source": [
    "person_a = {\"name\": \"Pelle\",\n",
    "          \"age\": 33.5,\n",
    "          \"work\": \"clown\",                                      # NESTED data collection types \n",
    "          \"interests\": [\"lego\", \"bira\", \"tigrar\", \"jonglera\"],  # The value in one key-value pair can be another collection data type (example a list.) \n",
    "          \"adress\": {\"country\": \"Sweden\", \"city\": \"Stockholm\"}\n",
    "          }\n",
    "\n",
    "print(person_a)\n",
    "print(person_a[\"name\"])\n",
    "print(person_a[\"work\"])"
   ]
  },
  {
   "cell_type": "code",
   "execution_count": null,
   "id": "6",
   "metadata": {},
   "outputs": [],
   "source": [
    "print(person_a[\"interests\"])\n",
    "print(person_a[\"adress\"])"
   ]
  },
  {
   "cell_type": "code",
   "execution_count": null,
   "id": "7",
   "metadata": {},
   "outputs": [],
   "source": [
    "# only print one element from interests / one info from the adress\n",
    "print(person_a[\"interests\"][0:2])\n",
    "print(person_a[\"adress\"][\"country\"])\n",
    "\n"
   ]
  },
  {
   "cell_type": "markdown",
   "id": "8",
   "metadata": {},
   "source": [
    "#### iterate over a dict(ionary)\n"
   ]
  },
  {
   "cell_type": "code",
   "execution_count": null,
   "id": "9",
   "metadata": {},
   "outputs": [],
   "source": [
    "words = {\n",
    "        \"data structure\": \"means of storing data\", \n",
    "        \"regression\": \"a function to best fit the data\",\n",
    "        \"method\": \"a founction bound to an object\"\n",
    "}"
   ]
  },
  {
   "cell_type": "code",
   "execution_count": null,
   "id": "10",
   "metadata": {},
   "outputs": [],
   "source": [
    "# iterate over both keys and values\n",
    "\n",
    "for key, value in words.items():\n",
    "    print(f\"Key: {key}\")\n",
    "    print(f\"Value: {value}\")\n",
    "    print(\":::::::::::::::\")\n"
   ]
  },
  {
   "cell_type": "code",
   "execution_count": null,
   "id": "11",
   "metadata": {},
   "outputs": [],
   "source": [
    "# iterate over keys.\n",
    "for key in words.keys():\n",
    "    print(f\"Key: {key}\")\n"
   ]
  },
  {
   "cell_type": "code",
   "execution_count": null,
   "id": "12",
   "metadata": {},
   "outputs": [],
   "source": [
    "# iterate over values.\n",
    "for value in words.values():\n",
    "    print(f\"Value: {value}\")"
   ]
  },
  {
   "cell_type": "markdown",
   "id": "13",
   "metadata": {},
   "source": [
    "# Dict comprehension"
   ]
  },
  {
   "cell_type": "code",
   "execution_count": null,
   "id": "14",
   "metadata": {},
   "outputs": [],
   "source": [
    "# we want to have an empty dict called grade_limit\n",
    "# create this dict(ionary) form scratch. \n",
    "\n",
    "grade_limit = {\n",
    "              \"F\": 0,\n",
    "              \"E\": 10,\n",
    "              \"D\": 20,\n",
    "              \"C\": 30,\n",
    "              \"B\": 40,\n",
    "              \"A\": 50\n",
    "               }\n",
    "\n",
    "\n",
    "grade_limit\n"
   ]
  },
  {
   "cell_type": "code",
   "execution_count": null,
   "id": "15",
   "metadata": {},
   "outputs": [],
   "source": [
    "# make use of dict comprehension\n",
    "\n",
    "grade_limit = {grade: i*10 for i, grade in enumerate(\"FEDCBA\")}\n",
    "print(grade_limit)\n"
   ]
  },
  {
   "cell_type": "code",
   "execution_count": null,
   "id": "16",
   "metadata": {},
   "outputs": [],
   "source": []
  },
  {
   "cell_type": "code",
   "execution_count": null,
   "id": "17",
   "metadata": {},
   "outputs": [],
   "source": []
  }
 ],
 "metadata": {
  "kernelspec": {
   "display_name": ".venv (3.13.5)",
   "language": "python",
   "name": "python3"
  },
  "language_info": {
   "codemirror_mode": {
    "name": "ipython",
    "version": 3
   },
   "file_extension": ".py",
   "mimetype": "text/x-python",
   "name": "python",
   "nbconvert_exporter": "python",
   "pygments_lexer": "ipython3",
   "version": "3.13.5"
  }
 },
 "nbformat": 4,
 "nbformat_minor": 5
}
