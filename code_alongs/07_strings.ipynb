{
 "cells": [
  {
   "cell_type": "markdown",
   "id": "0",
   "metadata": {},
   "source": [
    "# Strings\n",
    "* concatenate strings\n"
   ]
  },
  {
   "cell_type": "code",
   "execution_count": null,
   "id": "1",
   "metadata": {},
   "outputs": [],
   "source": [
    "fruits_today = \"apple\" +\" \" + \"orange\" + \" \" + \"strawberry\"\n",
    "print(f\"Todays friuts: {fruits_today}\")"
   ]
  },
  {
   "cell_type": "code",
   "execution_count": null,
   "id": "2",
   "metadata": {},
   "outputs": [],
   "source": [
    "fruits_today = \"apple, \" + \"orange, \" + \"strawberry\"\n",
    "print(f\"Todays friuts: {fruits_today}\")"
   ]
  },
  {
   "cell_type": "code",
   "execution_count": null,
   "id": "3",
   "metadata": {},
   "outputs": [],
   "source": [
    "#concatenate with loops\n",
    "\n",
    "fruits_today = \"apple, \" + \"orange, \" + \"strawberry\"\n",
    "print(f\"Todays friuts: {fruits_today}\")\n",
    "\n",
    "\n",
    "fruits_today_list = [\"apple\", \"orange\", \"strawberry\"]\n",
    "\n",
    "for fruits in fruits_today_list: # We iterate through the list and print out every element for itself.\n",
    "    print(fruits)"
   ]
  },
  {
   "cell_type": "markdown",
   "id": "4",
   "metadata": {},
   "source": [
    "# Indexing\n",
    "- An operation to access an item(character)\n",
    "- What is an item in the context pf strings?\n",
    "- ^ an item in the string is just the separate character. Be it a letter, special symbol or a whitespace\n",
    "- we can use the [] operator for indexing\n",
    "- Slicing is possible IF we want to access a single OR multiple items(characters)"
   ]
  },
  {
   "cell_type": "code",
   "execution_count": null,
   "id": "5",
   "metadata": {},
   "outputs": [],
   "source": [
    "# index\n",
    "full_name_with_space = \"kokchun Giang\"\n",
    "print(f\"{full_name_with_space}\")\n",
    "print(f\"The fist letter of the string is: {full_name_with_space[0]}\") # As _ALWAYS_ python starts the count at 0 (0=K in this example)\n",
    "print(f\"The last letter of the string is: {full_name_with_space[-1]}\") # As _ALWAYS_ if you want the last item/element in the index use -1\n",
    "\n"
   ]
  },
  {
   "cell_type": "code",
   "execution_count": null,
   "id": "6",
   "metadata": {},
   "outputs": [],
   "source": [
    "# slicing --->\n",
    "print(f\"The first three letters: {full_name_with_space[:3]}\")\n",
    "\n",
    "# slicing but reversed <---\n",
    "print(f\"The last three letters: {full_name_with_space[-1:-6:-1]}\") # Reversed order WITH the last \n"
   ]
  },
  {
   "cell_type": "markdown",
   "id": "7",
   "metadata": {},
   "source": [
    "# Some common examples to CLEAN strings.\n",
    "- make use of string methods\n",
    "- a good introduction to many common string methods can be found here: https://www.geeksforgeeks.org/python/python-string-methods/\n",
    "\n",
    "\n"
   ]
  },
  {
   "cell_type": "code",
   "execution_count": null,
   "id": "8",
   "metadata": {},
   "outputs": [],
   "source": [
    "# split - cleanes away white spaces to the <--- left and to the right ---->\n",
    "\n",
    "subjects = \"MaTH,     BiOLOGY,  ScIENCe,  CHeMiStRy     \"\n",
    "\n",
    "subjects = subjects.split(\",\")\n",
    "\n",
    "subjects"
   ]
  },
  {
   "cell_type": "code",
   "execution_count": null,
   "id": "9",
   "metadata": {},
   "outputs": [],
   "source": [
    "# strip off leading and trailing whitespaces\n",
    "# lower converts all letters to lowercase letters\n",
    "\n",
    "for subject in subjects:\n",
    "    print(subject.lower().strip())\n",
    "\n",
    "print(\"------------------\")\n",
    "\n",
    "# strip off leading and trailing whitespaces\n",
    "# upper CONVERTS ALL LETTERS TO UPPERCASE LETTERS\n",
    "\n",
    "for sub in subjects:\n",
    "    print(sub.upper().strip())"
   ]
  },
  {
   "cell_type": "code",
   "execution_count": null,
   "id": "10",
   "metadata": {},
   "outputs": [],
   "source": []
  }
 ],
 "metadata": {
  "kernelspec": {
   "display_name": ".venv (3.13.5)",
   "language": "python",
   "name": "python3"
  },
  "language_info": {
   "codemirror_mode": {
    "name": "ipython",
    "version": 3
   },
   "file_extension": ".py",
   "mimetype": "text/x-python",
   "name": "python",
   "nbconvert_exporter": "python",
   "pygments_lexer": "ipython3",
   "version": "3.13.5"
  }
 },
 "nbformat": 4,
 "nbformat_minor": 5
}
