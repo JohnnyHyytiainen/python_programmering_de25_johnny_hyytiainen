{
 "cells": [
  {
   "cell_type": "code",
   "execution_count": null,
   "id": "a8f0249e",
   "metadata": {},
   "outputs": [],
   "source": []
  }
 ],
 "metadata": {
  "kernelspec": {
   "display_name": ".venv (3.13.5)",
   "language": "python",
   "name": "python3"
  },
  "language_info": {
   "name": "python",
   "version": "3.13.5"
  }
 },
 "nbformat": 4,
 "nbformat_minor": 5
}
