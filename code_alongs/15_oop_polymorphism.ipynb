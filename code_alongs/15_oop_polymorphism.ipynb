{
 "cells": [
  {
   "cell_type": "markdown",
   "id": "0",
   "metadata": {},
   "source": [
    "# Polymorphism\n",
    "\n",
    "## Polymorphism means many shapes.\n",
    "- same function name or operator can be used for different types\n",
    "  - example: \"2\" + \"3\" -> \"23\" (str)\n",
    "  - example:  2  +  3  ->  5   (int)\n",
    "\n",
    "- In the example above the + operator works differently for different types\n",
    "  - This is due to operator overload. "
   ]
  },
  {
   "cell_type": "markdown",
   "id": "1",
   "metadata": {},
   "source": [
    "## polymorphism in class methods"
   ]
  },
  {
   "cell_type": "code",
   "execution_count": null,
   "id": "2",
   "metadata": {},
   "outputs": [],
   "source": [
    "class Fish:\n",
    "    def __init__ (self, name):\n",
    "        self.name = name\n",
    "\n",
    "    def __str__(self): #method\n",
    "        return f\"I am a fish, my name is {self.name}\"\n",
    "\n",
    "    def speak(self):\n",
    "        print(f\"fish {self.name} says blubb blubb\")\n",
    "\n",
    "# fox\n",
    "class Fox:\n",
    "    def __init__ (self, name):\n",
    "        self.name = name\n",
    "\n",
    "    def __str__(self): #method\n",
    "        return f\"I am a fox, my name is {self.name}, no one knows how I sound\"\n",
    "\n",
    "    def speak(self):\n",
    "        return NotImplemented\n",
    "\n",
    "\n",
    "animals = [Fish(\"Poly\"), Fish(\"Morphi\"), Fox(\"Polymorphism\")]\n",
    "\n",
    "for a in animals:\n",
    "    # using same method name but they behave differently for different types\n",
    "    print(a) # uses __str__() for both Fish and Fox\n",
    "    a.speak() # uses speak for both Fish and Fox\n"
   ]
  },
  {
   "cell_type": "code",
   "execution_count": null,
   "id": "3",
   "metadata": {},
   "outputs": [],
   "source": []
  },
  {
   "cell_type": "code",
   "execution_count": null,
   "id": "4",
   "metadata": {},
   "outputs": [],
   "source": []
  }
 ],
 "metadata": {
  "kernelspec": {
   "display_name": ".venv (3.13.5)",
   "language": "python",
   "name": "python3"
  },
  "language_info": {
   "codemirror_mode": {
    "name": "ipython",
    "version": 3
   },
   "file_extension": ".py",
   "mimetype": "text/x-python",
   "name": "python",
   "nbconvert_exporter": "python",
   "pygments_lexer": "ipython3",
   "version": "3.13.5"
  }
 },
 "nbformat": 4,
 "nbformat_minor": 5
}
