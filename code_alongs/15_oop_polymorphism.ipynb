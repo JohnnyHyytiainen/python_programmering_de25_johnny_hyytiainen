{
 "cells": [
  {
   "cell_type": "markdown",
   "id": "0",
   "metadata": {},
   "source": [
    "# Polymorphism\n",
    "\n",
    "## Polymorphism means many shapes.\n",
    "- same function name or operator can be used for different types\n",
    "  - example: \"2\" + \"3\" -> \"23\" (str)\n",
    "  - example:  2  +  3  ->  5   (int)\n",
    "\n",
    "- In the example above the + operator works differently for different types\n",
    "  - This is due to operator overload. "
   ]
  }
 ],
 "metadata": {
  "kernelspec": {
   "display_name": ".venv (3.13.5)",
   "language": "python",
   "name": "python3"
  },
  "language_info": {
   "name": "python",
   "version": "3.13.5"
  }
 },
 "nbformat": 4,
 "nbformat_minor": 5
}
