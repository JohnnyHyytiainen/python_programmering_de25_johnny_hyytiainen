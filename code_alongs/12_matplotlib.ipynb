{
 "cells": [
  {
   "cell_type": "markdown",
   "id": "0",
   "metadata": {},
   "source": [
    "# Lecture 12 - Matplotlib\n",
    "- Structures of matplotlib.\n",
    " - Focus areas in this course:\n",
    "   - The distinction between two ways of writing matplotlib codes.\n",
    "    - The components of a matplot figure."
   ]
  },
  {
   "cell_type": "code",
   "execution_count": null,
   "id": "1",
   "metadata": {},
   "outputs": [],
   "source": [
    "import matplotlib.pyplot as plt\n",
    "import numpy as np\n"
   ]
  },
  {
   "cell_type": "code",
   "execution_count": null,
   "id": "2",
   "metadata": {},
   "outputs": [],
   "source": [
    "# generate some random data for plotting. Data X\n",
    "\n",
    "x = np.linspace(0, 5, 100)\n",
    "x"
   ]
  },
  {
   "cell_type": "code",
   "execution_count": null,
   "id": "3",
   "metadata": {},
   "outputs": [],
   "source": [
    "# generate some random data for plotting. Data F\n",
    "\n",
    "f = np.sin(x)\n",
    "f"
   ]
  },
  {
   "cell_type": "markdown",
   "id": "4",
   "metadata": {},
   "source": [
    "#### The first approach - Functional/matlab style"
   ]
  },
  {
   "cell_type": "code",
   "execution_count": null,
   "id": "5",
   "metadata": {},
   "outputs": [],
   "source": [
    "plt.figure()\n",
    "plt.plot(x,f)\n",
    "plt.title(\"sin(x)\")\n",
    "plt.xlabel(\"X Axis\")\n",
    "plt.ylabel(\"F Axis\")"
   ]
  },
  {
   "cell_type": "markdown",
   "id": "6",
   "metadata": {},
   "source": [
    "#### Second approach - Object Oriented Programming approach. OOP approach.\n"
   ]
  },
  {
   "cell_type": "code",
   "execution_count": null,
   "id": "7",
   "metadata": {},
   "outputs": [],
   "source": [
    "fig = plt.figure() # Create a fugyre\n",
    "ax = plt.axes() # On the figure, create an axis/axes(?)\n",
    "ax.plot(x, f) # on the axe, create a plot\n",
    "ax.set(xlim=(-0.0, 5.2), ylim=(-1,1.5), xlabel=\"X\", ylabel=\"Y\") # continuing to change the x axis. The sin curve (x,f) is still the same"
   ]
  },
  {
   "cell_type": "code",
   "execution_count": null,
   "id": "8",
   "metadata": {},
   "outputs": [],
   "source": []
  }
 ],
 "metadata": {
  "kernelspec": {
   "display_name": ".venv (3.13.5)",
   "language": "python",
   "name": "python3"
  },
  "language_info": {
   "codemirror_mode": {
    "name": "ipython",
    "version": 3
   },
   "file_extension": ".py",
   "mimetype": "text/x-python",
   "name": "python",
   "nbconvert_exporter": "python",
   "pygments_lexer": "ipython3",
   "version": "3.13.5"
  }
 },
 "nbformat": 4,
 "nbformat_minor": 5
}
