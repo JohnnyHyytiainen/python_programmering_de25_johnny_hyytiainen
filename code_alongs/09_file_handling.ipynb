{
 "cells": [
  {
   "cell_type": "markdown",
   "id": "0",
   "metadata": {},
   "source": [
    "# File handling\n",
    "- The file handling we are doing now mainly focuses on reading text files (.txt)\n",
    "- The reason we are using .txt is to start working with some `outside data`\n",
    "  - we need to read the file \"r\"\n",
    "  - clean the contents .strip()\n",
    "  - write the clean content to a new txt file. \"w\"\n",
    "- we now focus on test/string characters"
   ]
  },
  {
   "cell_type": "markdown",
   "id": "1",
   "metadata": {},
   "source": [
    "## Read a file"
   ]
  },
  {
   "cell_type": "markdown",
   "id": "2",
   "metadata": {},
   "source": [
    "#### Open the file directly"
   ]
  },
  {
   "cell_type": "code",
   "execution_count": null,
   "id": "3",
   "metadata": {},
   "outputs": [],
   "source": [
    "f = open(\"test.txt\", \"r\") # The first argument is the path, the second argument is the MODE (\"r\" for READ)\n",
    "\n",
    "print(f) \n",
    "\n",
    "text = f.read() # Save the content in the file as a variable\n",
    "print(text) \n",
    "\n",
    "# we must close the file after. Its just good pratice\n",
    "\n",
    "f.close()"
   ]
  },
  {
   "cell_type": "markdown",
   "id": "4",
   "metadata": {},
   "source": [
    "#### Open the file with `with statement`"
   ]
  },
  {
   "cell_type": "code",
   "execution_count": null,
   "id": "5",
   "metadata": {},
   "outputs": [],
   "source": [
    "with open(\"test.txt\", \"r\") as f: # using with statement is more convenient than the direct open approach. The with statement automatically closes the file after reading it!\n",
    "\n",
    "\n",
    "  for line in f:\n",
    "   print(line.strip())\n"
   ]
  },
  {
   "cell_type": "code",
   "execution_count": null,
   "id": "6",
   "metadata": {},
   "outputs": [],
   "source": []
  },
  {
   "cell_type": "code",
   "execution_count": null,
   "id": "7",
   "metadata": {},
   "outputs": [],
   "source": []
  }
 ],
 "metadata": {
  "kernelspec": {
   "display_name": ".venv (3.13.5)",
   "language": "python",
   "name": "python3"
  },
  "language_info": {
   "codemirror_mode": {
    "name": "ipython",
    "version": 3
   },
   "file_extension": ".py",
   "mimetype": "text/x-python",
   "name": "python",
   "nbconvert_exporter": "python",
   "pygments_lexer": "ipython3",
   "version": "3.13.5"
  }
 },
 "nbformat": 4,
 "nbformat_minor": 5
}
