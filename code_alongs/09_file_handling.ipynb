{
 "cells": [
  {
   "cell_type": "markdown",
   "id": "0",
   "metadata": {},
   "source": [
    "# File handling\n",
    "- The file handling we are doing now mainly focuses on reading text files (.txt)\n",
    "- The reason we are using .txt is to start working with some `outside data`\n",
    "  - we need to read the file \"r\"\n",
    "  - clean the contents .strip()\n",
    "  - write the clean content to a new txt file. \"w\"\n",
    "- we now focus on test/string characters"
   ]
  },
  {
   "cell_type": "markdown",
   "id": "1",
   "metadata": {},
   "source": [
    "## Read a file"
   ]
  },
  {
   "cell_type": "markdown",
   "id": "2",
   "metadata": {},
   "source": [
    "#### Open the file directly"
   ]
  },
  {
   "cell_type": "code",
   "execution_count": null,
   "id": "3",
   "metadata": {},
   "outputs": [],
   "source": [
    "f = open(\"test.txt\", \"r\") # The first argument is the path, the second argument is the MODE (\"r\" for READ)\n",
    "\n",
    "print(f) \n",
    "\n",
    "text = f.read() # Save the content in the file as a variable\n",
    "print(text) \n",
    "\n",
    "# we must close the file after. Its just good pratice\n",
    "\n",
    "f.close()"
   ]
  },
  {
   "cell_type": "markdown",
   "id": "4",
   "metadata": {},
   "source": [
    "#### Open the file with `with statement`"
   ]
  },
  {
   "cell_type": "code",
   "execution_count": null,
   "id": "5",
   "metadata": {},
   "outputs": [],
   "source": [
    "with open(\"test.txt\", \"r\") as f: \n",
    "# using with statement is more convenient than the direct open approach. The with statement automatically closes the file after reading it!\n",
    "  for line in f:\n",
    "   print(line.strip())\n",
    "   \n",
    "\n",
    "\n"
   ]
  },
  {
   "cell_type": "markdown",
   "id": "6",
   "metadata": {},
   "source": [
    "# cleaning .txt files. In this case, the \"quotes.txt\" file"
   ]
  },
  {
   "cell_type": "code",
   "execution_count": null,
   "id": "7",
   "metadata": {},
   "outputs": [],
   "source": [
    "# import regex (Regular expression package to clean the string contents in quotes.txt)"
   ]
  },
  {
   "cell_type": "code",
   "execution_count": null,
   "id": "8",
   "metadata": {},
   "outputs": [],
   "source": [
    "# create an empty list for saving the cleaned text.\n",
    "cleaned_text = [] # empty list for later\n",
    "\n",
    "# initiate a quote number\n",
    "i = 1\n",
    "# open the file to read the data to start with\n",
    "# comparing the use of the absolute and relavite paths (WE will always use the relative path for this programming course)\n",
    "with open(\"quotes.txt\", \"r\") as f:\n",
    "    quote = f.read()\n",
    "\n",
    "print(quote)\n"
   ]
  },
  {
   "cell_type": "code",
   "execution_count": null,
   "id": "9",
   "metadata": {},
   "outputs": [],
   "source": [
    "#import re(regular expression) package\n",
    "import re\n",
    "# looping through the text\n",
    "with open(\"quotes.txt\", \"r\") as r:\n",
    "    for quote in r:\n",
    "        # cleaning the data\n",
    "        quote = quote.strip(\" \\n\") # replace the quote variable with a modified variable\n",
    "        quote = re.sub(\" +\", \" \", quote) # using of re-package (regular expression) it takes 3 arguments. (first pattern, change to, what you'd like to change pattern in)\n",
    "        # ^in this case (\" +\", \" \", quote) <- multiple spaces, replace with single space, in quote.\n",
    "        # print each line\n",
    "    print(quote)"
   ]
  },
  {
   "cell_type": "code",
   "execution_count": null,
   "id": "10",
   "metadata": {},
   "outputs": [],
   "source": [
    "# open two files (one with r mode and the other one with w mode)\n",
    "# looping through the text\n",
    "with open(\"quotes.txt\", \"r\") as f_read, open(\"quotes_clean.txt\", \"w\") as f_write:\n",
    "    for quote in f_read:\n",
    "        # cleaning the data\n",
    "        quote = quote.strip(\" \\n\") # replace the quote variable with a modified variable\n",
    "        quote = re.sub(\" +\", \" \", quote) # using of re-package (regular expression) it takes 3 arguments. (first pattern, change to, what you'd like to change pattern in)\n",
    "        # ^in this case (\" +\", \" \", quote) <- multiple spaces, replace with single space, in quote.\n",
    "        # print each line\n",
    "        print(quote)\n",
    "\n",
    "        if quote != \"\":\n",
    "            f_write.write(f\"{i}, {quote}\\n\")\n",
    "            i += 1\n",
    "            "
   ]
  },
  {
   "cell_type": "code",
   "execution_count": null,
   "id": "11",
   "metadata": {},
   "outputs": [],
   "source": []
  }
 ],
 "metadata": {
  "kernelspec": {
   "display_name": ".venv (3.13.5)",
   "language": "python",
   "name": "python3"
  },
  "language_info": {
   "codemirror_mode": {
    "name": "ipython",
    "version": 3
   },
   "file_extension": ".py",
   "mimetype": "text/x-python",
   "name": "python",
   "nbconvert_exporter": "python",
   "pygments_lexer": "ipython3",
   "version": "3.13.5"
  }
 },
 "nbformat": 4,
 "nbformat_minor": 5
}
