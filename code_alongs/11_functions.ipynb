{
 "cells": [
  {
   "cell_type": "markdown",
   "id": "0",
   "metadata": {},
   "source": [
    "# Functions - Lecture 11 \n",
    " - Blocks of reusable code."
   ]
  },
  {
   "cell_type": "markdown",
   "id": "1",
   "metadata": {},
   "source": [
    "#### Creating a simple function and understand its terminology.\n",
    "- Define it. Name it. Enter the functions parameters.\n",
    "  - Build its body. Return its results. Call the function.\n",
    "    - To call it you must\n",
    "      - Cite the function, () is the callable and you can the function with its name and an argument in the callable."
   ]
  },
  {
   "cell_type": "code",
   "execution_count": null,
   "id": "2",
   "metadata": {},
   "outputs": [],
   "source": [
    "# a simple example of a function. \n",
    "# 1) define it. 2) name the function. 3) Enter in the functions parameter/arguments. \n",
    "# 4) Build the functions body. 5) return the result. 6) call on the function.\n",
    "\n",
    "def squares(x): #d efine, name, parameter\n",
    "    result = x**2 # statement\n",
    "    return result # return block defines the output\n"
   ]
  },
  {
   "cell_type": "code",
   "execution_count": null,
   "id": "3",
   "metadata": {},
   "outputs": [],
   "source": [
    "# Calling the function.\n",
    "squares(5) # cite the function, ()<-- is called the callable(You call the function with its name and an argument)\n"
   ]
  },
  {
   "cell_type": "markdown",
   "id": "4",
   "metadata": {},
   "source": [
    "#### Positional arguments.\n"
   ]
  },
  {
   "cell_type": "code",
   "execution_count": null,
   "id": "5",
   "metadata": {},
   "outputs": [],
   "source": [
    "def my_fruits(fruits_like, fruits_dislike):\n",
    "    print(f\"I like to eat {fruits_like}\")\n",
    "    print(f\"I dislike to eat {fruits_dislike}\")\n",
    "    return None # Python will add this line if you dont have a return block\n",
    "\n"
   ]
  },
  {
   "cell_type": "code",
   "execution_count": null,
   "id": "6",
   "metadata": {},
   "outputs": [],
   "source": [
    "# check out the problem of the order in the arguments below\n",
    "# i dislike durian but I like to eat kiwi\n",
    "my_fruits('Durian', 'Kiwi')"
   ]
  },
  {
   "cell_type": "markdown",
   "id": "7",
   "metadata": {},
   "source": [
    "#### Keyword arguments."
   ]
  },
  {
   "cell_type": "code",
   "execution_count": null,
   "id": "8",
   "metadata": {},
   "outputs": [],
   "source": [
    "# if you DONT want to depend on the positions of the arguments in a function. You can provide the PARAMETER NAMES to assign the value\n",
    "# you want the arguments to have.\n",
    "my_fruits(fruits_like=(\"kiwi\"), fruits_dislike=(\"Durian\"))"
   ]
  },
  {
   "cell_type": "code",
   "execution_count": null,
   "id": "9",
   "metadata": {},
   "outputs": [],
   "source": [
    "# what happens if i provide 3 arguments?\n",
    "# it ends up with a TypeError. My function only takes 2 positional arguments but 3 were given.\n",
    "\n",
    "my_fruits(\"a\", \"b\", \"c\")"
   ]
  },
  {
   "cell_type": "markdown",
   "id": "10",
   "metadata": {},
   "source": [
    "#### Unknown number of positional arguments "
   ]
  },
  {
   "cell_type": "code",
   "execution_count": null,
   "id": "11",
   "metadata": {},
   "outputs": [],
   "source": [
    "# suppose that i want to print out all fruits that are input as arguments to a function\n",
    "# we will use the * symbol in the parameter\n",
    "# the * has two meanings.\n",
    "# 1) * is responding to the POSITIONAL ARGUMENT\n",
    "# 2) the number of arguments will be UNKNOWN\n",
    "\n",
    "def print_fruit(*fruits):\n",
    "    for fruit in fruits:\n",
    "        print (fruit)\n",
    "    return type(fruits)"
   ]
  },
  {
   "cell_type": "code",
   "execution_count": null,
   "id": "12",
   "metadata": {},
   "outputs": [],
   "source": [
    "print_fruit(\"apple\", \"strawboober\", \"watermelon\", \"grape\")"
   ]
  },
  {
   "cell_type": "markdown",
   "id": "13",
   "metadata": {},
   "source": [
    "### Unknown number of keyword arguments"
   ]
  },
  {
   "cell_type": "code",
   "execution_count": null,
   "id": "14",
   "metadata": {},
   "outputs": [],
   "source": [
    "\n",
    "def print_nr_fruits(**fruits):\n",
    "    for key, value in fruits.items():\n",
    "        print(key, value)\n",
    "    return type(fruits)"
   ]
  },
  {
   "cell_type": "code",
   "execution_count": null,
   "id": "15",
   "metadata": {},
   "outputs": [],
   "source": [
    "print_nr_fruits(fruit1=\"Apple\", fruit2=\"Strawboober\", fruit3=\"Jooscube\") # the key is provides when calling for the function."
   ]
  },
  {
   "cell_type": "code",
   "execution_count": null,
   "id": "16",
   "metadata": {},
   "outputs": [],
   "source": []
  }
 ],
 "metadata": {
  "kernelspec": {
   "display_name": ".venv (3.13.5)",
   "language": "python",
   "name": "python3"
  },
  "language_info": {
   "codemirror_mode": {
    "name": "ipython",
    "version": 3
   },
   "file_extension": ".py",
   "mimetype": "text/x-python",
   "name": "python",
   "nbconvert_exporter": "python",
   "pygments_lexer": "ipython3",
   "version": "3.13.5"
  }
 },
 "nbformat": 4,
 "nbformat_minor": 5
}
