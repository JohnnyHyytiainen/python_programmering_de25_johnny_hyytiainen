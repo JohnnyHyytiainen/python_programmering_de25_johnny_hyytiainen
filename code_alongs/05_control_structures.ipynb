{
 "cells": [
  {
   "cell_type": "markdown",
   "id": "0",
   "metadata": {},
   "source": [
    "**05_Control_structures**  \n",
    "**a_if_statements i kursens repo**  \n",
    "Kontrollera flödet med användning av en bool. Dvs, True/False.   "
   ]
  },
  {
   "cell_type": "code",
   "execution_count": null,
   "id": "1",
   "metadata": {},
   "outputs": [],
   "source": [
    "age = int(input(\"Please, could you enter your age:\"))\n",
    "age_limit = 18\n",
    "\n",
    "if age < age_limit:\n",
    "    print(\"Sorry, you're too young to enter the bar.\")\n",
    "    print(\"We have an arcade next door you could visit and play some fun games instead!\")\n",
    "elif age >= age_limit:\n",
    "    print(\"Welcome in. Enjoy!\")\n"
   ]
  },
  {
   "cell_type": "code",
   "execution_count": null,
   "id": "2",
   "metadata": {},
   "outputs": [],
   "source": [
    "age1 = 15\n",
    "height = 155\n",
    "\n",
    "if age > 12 and 130 < height < 210:\n",
    "    print(\"You can ride the rollercoaster!\")\n",
    "else:\n",
    "    print(\"Come back when you meet the requirements\")"
   ]
  },
  {
   "cell_type": "code",
   "execution_count": null,
   "id": "3",
   "metadata": {},
   "outputs": [],
   "source": [
    "number = int(input(\"Please, pick a number!\"))\n",
    "if number % 2 == 0:\n",
    "    print(f\"You entered {number}, and thats an even number!\")\n",
    "else:\n",
    "    print(f\"You entered {number}, and thats an odd number!\")"
   ]
  },
  {
   "cell_type": "code",
   "execution_count": null,
   "id": "4",
   "metadata": {},
   "outputs": [],
   "source": [
    "weight = float(input(\"Hur mycket väger du? Skriv i KG\"))\n",
    "if weight <= 20:\n",
    "    print(f\"Du väger {weight}kg. Du ska äta 500mg\")\n",
    "elif weight <= 40:\n",
    "    print(f\"Du väger {weight}kg. Du ska äta 750mg\")\n",
    "else:\n",
    "    print(f\"Du väger {weight}kg. Du ska äta 1000mg\")"
   ]
  },
  {
   "cell_type": "code",
   "execution_count": null,
   "id": "5",
   "metadata": {},
   "outputs": [],
   "source": [
    "print(f\"True and False gives: {True and False}\")\n",
    "print(f\"True and True gives: {True and True}\")\n",
    "print(f\"True or False gives: {True or False}\")\n",
    "print(f\"False or False gives: {False or False}\")\n",
    "print(f\"True and True gives: {True and True}\")\n",
    "print(f\"True or True gives: {True or True}\")"
   ]
  },
  {
   "cell_type": "code",
   "execution_count": null,
   "id": "6",
   "metadata": {},
   "outputs": [],
   "source": [
    "total_sum = 0 # Tom variabel att fylla på under loopens gång.\n",
    "for i in range(1000):  # Iterera från 0 upp till (ej inklusive) 1000.\n",
    "    if i % 3 == 0 or i % 5 == 0:  # Se om det är delbart med 3 eller 5.\n",
    "        total_sum += i  # Addera summorna med varandra.\n",
    "\n",
    "print(total_sum) # Printa ut totalen."
   ]
  },
  {
   "cell_type": "code",
   "execution_count": null,
   "id": "7",
   "metadata": {},
   "outputs": [],
   "source": []
  }
 ],
 "metadata": {
  "kernelspec": {
   "display_name": ".venv (3.13.5)",
   "language": "python",
   "name": "python3"
  },
  "language_info": {
   "codemirror_mode": {
    "name": "ipython",
    "version": 3
   },
   "file_extension": ".py",
   "mimetype": "text/x-python",
   "name": "python",
   "nbconvert_exporter": "python",
   "pygments_lexer": "ipython3",
   "version": "3.13.5"
  }
 },
 "nbformat": 4,
 "nbformat_minor": 5
}
