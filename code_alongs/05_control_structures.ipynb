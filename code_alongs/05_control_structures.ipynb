{
 "cells": [
  {
   "cell_type": "markdown",
   "id": "0",
   "metadata": {},
   "source": [
    "**05_Control_structures**  \n",
    "**a_if_statements i kursens repo**  \n",
    "Kontrollera flödet med användning av en bool. Dvs, True/False.   "
   ]
  },
  {
   "cell_type": "code",
   "execution_count": null,
   "id": "1",
   "metadata": {},
   "outputs": [],
   "source": [
    "age = int(input(\"Please, could you enter your age:\"))\n",
    "age_limit = 18\n",
    "\n",
    "if age < age_limit:\n",
    "    print(\"Sorry, you're too young to enter the bar.\")\n",
    "    print(\"We have an arcade next door you could visit and play some fun games instead!\")\n",
    "elif age >= age_limit:\n",
    "    print(\"Welcome in. Enjoy!\")\n"
   ]
  },
  {
   "cell_type": "code",
   "execution_count": null,
   "id": "2",
   "metadata": {},
   "outputs": [],
   "source": [
    "age1 = 15\n",
    "height = 155\n",
    "\n",
    "if age1 > 12 and 130 < height < 210:\n",
    "    print(\"You can ride the rollercoaster!\")\n",
    "else:\n",
    "    print(\"Come back when you meet the requirements\")"
   ]
  },
  {
   "cell_type": "code",
   "execution_count": null,
   "id": "3",
   "metadata": {},
   "outputs": [],
   "source": [
    "number = int(input(\"Please, pick a number!\"))\n",
    "if number % 2 == 0:\n",
    "    print(f\"You entered {number}, and thats an even number!\")\n",
    "else:\n",
    "    print(f\"You entered {number}, and thats an odd number!\")"
   ]
  },
  {
   "cell_type": "code",
   "execution_count": null,
   "id": "4",
   "metadata": {},
   "outputs": [],
   "source": [
    "weight = float(input(\"Hur mycket väger du? Skriv i KG\"))\n",
    "if weight <= 20:\n",
    "    print(f\"Du väger {weight}kg. Du ska äta 500mg\")\n",
    "elif weight <= 40:\n",
    "    print(f\"Du väger {weight}kg. Du ska äta 750mg\")\n",
    "else:\n",
    "    print(f\"Du väger {weight}kg. Du ska äta 1000mg\")"
   ]
  },
  {
   "cell_type": "code",
   "execution_count": null,
   "id": "5",
   "metadata": {},
   "outputs": [],
   "source": [
    "print(f\"True and False gives: {True and False}\")\n",
    "print(f\"True and True gives: {True and True}\")\n",
    "print(f\"True or False gives: {True or False}\")\n",
    "print(f\"False or False gives: {False or False}\")\n",
    "print(f\"True and True gives: {True and True}\")\n",
    "print(f\"True or True gives: {True or True}\")"
   ]
  },
  {
   "cell_type": "code",
   "execution_count": null,
   "id": "6",
   "metadata": {},
   "outputs": [],
   "source": [
    "total_sum = 0 # Tom variabel att fylla på under loopens gång.\n",
    "for i in range(1000):  # Iterera från 0 upp till (ej inklusive) 1000.\n",
    "    if i % 3 == 0 or i % 5 == 0:  # Se om det är delbart med 3 eller 5.\n",
    "        total_sum += i  # Addera summorna med varandra.\n",
    "\n",
    "print(total_sum) # Printa ut totalen."
   ]
  },
  {
   "cell_type": "code",
   "execution_count": null,
   "id": "7",
   "metadata": {},
   "outputs": [],
   "source": [
    "# Modulo operator\n",
    "nummer = 9\n",
    "# print whether the value assigned to the variable numer is odd or even.\n",
    "if nummer % 2 == 0:\n",
    "    print(f\"It is an even number and the value assigned to this is {nummer}\")\n",
    "else:\n",
    "    print(f\"It is an odd number and the value assigned to this is {nummer}\")"
   ]
  },
  {
   "cell_type": "markdown",
   "id": "8",
   "metadata": {},
   "source": [
    "**Nested if statement**  \n",
    "- When we have the need for more than one if statement under a scenario  \n",
    "- You need to think about if nested if statements produce the best and most optimal outcome."
   ]
  },
  {
   "cell_type": "code",
   "execution_count": null,
   "id": "9",
   "metadata": {},
   "outputs": [],
   "source": [
    "nums = int(input(\"enter a number\"))\n",
    "# If a number is divisible by 5 (% 5 == 0), also check if it is divisible by 2. % 5 == 0 and % 2 == 0.\n",
    "\n",
    "if nums % 5 == 0:\n",
    "    print(\"This is divisible by 5 without, also check if it is divisible by 2.\")\n",
    "    if nums % 2 == 0:\n",
    "        print(\"This is an even number.\")\n",
    "    else:\n",
    "        print(\"This is an odd number.\")\n",
    "\n",
    "\n",
    "\n",
    "else:\n",
    "    print(\"This is not divisible by 5 and no need to check more.\")\n",
    "\n"
   ]
  },
  {
   "cell_type": "markdown",
   "id": "10",
   "metadata": {},
   "source": [
    "**One line if statements**\n",
    "- You write one line if statements, usually when refractoring your original if statement with multiple lines of code.\n",
    "- ALWAYS aim for the cleanest and most readable piece of code. Simplicity is key. (Eget exempel. Långform VS kortform (List comprehension etc))\n",
    "- "
   ]
  },
  {
   "cell_type": "code",
   "execution_count": null,
   "id": "11",
   "metadata": {},
   "outputs": [],
   "source": [
    "name = \"Olivia\"\n",
    "gender = \"Female\"\n",
    "age = 7"
   ]
  },
  {
   "cell_type": "code",
   "execution_count": null,
   "id": "12",
   "metadata": {},
   "outputs": [],
   "source": [
    "# Multiple lines of code\n",
    "if \"O\" in name:\n",
    "    print(\"There is letter O in the name\")"
   ]
  },
  {
   "cell_type": "code",
   "execution_count": null,
   "id": "13",
   "metadata": {},
   "outputs": [],
   "source": [
    "# One line of code\n",
    "if \"O\" in name: print(\"There is the letter O in the name\")"
   ]
  },
  {
   "cell_type": "markdown",
   "id": "14",
   "metadata": {},
   "source": [
    "**Decide discounts for a customer**\n",
    "- Set a base price to be 10kr per apple.\n",
    "- Ask for user to input whether student or pensioner.\n",
    "- Ask for user to input the quantity of apples they buy.\n",
    "- Use if statement to decide the final price with these discounts:\n",
    "- 30% off for student.\n",
    "- 50% off for pensioners.\n",
    "\n",
    "- Print out a text with f-string, telling the user what is the final price."
   ]
  },
  {
   "cell_type": "code",
   "execution_count": null,
   "id": "15",
   "metadata": {},
   "outputs": [],
   "source": [
    "\n",
    "\n",
    "age = int(input(\"Hur gammal är du?\"))\n",
    "ammount = int(input(\"How many apples would you like to purchase?\"))\n",
    "price = 10\n",
    "student_price = 0.7\n",
    "pensioner_price = 0.5\n",
    "\n",
    "if age >= 65:\n",
    "    print(f\"Du är pensionär, du får seniorrabatt. Din totala kostnad för {ammount} äpplen är: {price * ammount * pensioner_price}\")\n",
    "elif age < 18:\n",
    "    print(f\"Du är student, du får studentrabatten. Din totala kostnad för {ammount} äpplen är: {price * ammount * student_price}\")\n",
    "else:\n",
    "    print(f\"Du är varken student eller pensionär. Du får betala fullt pris för {ammount} äpplen. Din totala kostnad är {ammount * price} kr\")\n",
    "\n",
    "\n",
    "\n"
   ]
  }
 ],
 "metadata": {
  "kernelspec": {
   "display_name": ".venv (3.13.5)",
   "language": "python",
   "name": "python3"
  },
  "language_info": {
   "codemirror_mode": {
    "name": "ipython",
    "version": 3
   },
   "file_extension": ".py",
   "mimetype": "text/x-python",
   "name": "python",
   "nbconvert_exporter": "python",
   "pygments_lexer": "ipython3",
   "version": "3.13.5"
  }
 },
 "nbformat": 4,
 "nbformat_minor": 5
}
