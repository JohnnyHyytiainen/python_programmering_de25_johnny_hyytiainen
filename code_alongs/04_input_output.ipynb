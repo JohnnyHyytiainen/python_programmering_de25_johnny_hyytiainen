{
 "cells": [
  {
   "cell_type": "markdown",
   "id": "0",
   "metadata": {},
   "source": [
    "**Python Code-along online. 23/09/2025**  \n",
    "Går igenom .ipynb(Jupyter notebooks funktioner.)\n",
    "\n",
    "**Lecture 4 - Input, output & variables**  \n",
    "Idag går vi igenom basic python, rättare sagt i/o och funktioner."
   ]
  },
  {
   "cell_type": "code",
   "execution_count": null,
   "id": "1",
   "metadata": {},
   "outputs": [],
   "source": [
    "# Print statement\n",
    "print(\"Hej och välkommen till din första code-along lektion. Det första vi ska göra är att ta närvaro, fyll i ditt namn:\")\n",
    "namn = input()\n",
    "print(f\"Hej, {namn}. Din närvaro är nu bekräftad\")\n"
   ]
  },
  {
   "cell_type": "code",
   "execution_count": null,
   "id": "2",
   "metadata": {},
   "outputs": [],
   "source": []
  }
 ],
 "metadata": {
  "kernelspec": {
   "display_name": ".venv (3.13.5)",
   "language": "python",
   "name": "python3"
  },
  "language_info": {
   "codemirror_mode": {
    "name": "ipython",
    "version": 3
   },
   "file_extension": ".py",
   "mimetype": "text/x-python",
   "name": "python",
   "nbconvert_exporter": "python",
   "pygments_lexer": "ipython3",
   "version": "3.13.5"
  }
 },
 "nbformat": 4,
 "nbformat_minor": 5
}
