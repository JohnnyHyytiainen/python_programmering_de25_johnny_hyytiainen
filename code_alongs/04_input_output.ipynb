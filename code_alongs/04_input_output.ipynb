{
 "cells": [
  {
   "cell_type": "markdown",
   "id": "0",
   "metadata": {},
   "source": [
    "**Python Code-along online. 23/09/2025**  \n",
    "Går igenom .ipynb(Jupyter notebooks funktioner.)\n",
    "\n",
    "**Lecture 4 - Input, output & variables**  \n",
    "Idag går vi igenom basic python, rättare sagt i/o och funktioner."
   ]
  },
  {
   "cell_type": "code",
   "execution_count": null,
   "id": "1",
   "metadata": {},
   "outputs": [],
   "source": [
    "# Print statement\n",
    "print(\"Hej och välkommen till din första code-along lektion. Det första vi ska göra är att ta närvaro, fyll i ditt namn:\")\n",
    "namn = input()\n",
    "print(f\"Hej, {namn}. Din närvaro är nu bekräftad\")\n"
   ]
  },
  {
   "cell_type": "code",
   "execution_count": null,
   "id": "2",
   "metadata": {},
   "outputs": [],
   "source": [
    "# variabler med olika data-typer\n",
    "first_name = \"Johnny\"\n",
    "height = 196\n",
    "exact_height1 = 196.583\n",
    "\n",
    "print (f\"Hej, {first_name}. Du är {height}cm lång, eller mer exakt {exact_height1:.1f}cm lång\")\n"
   ]
  },
  {
   "cell_type": "code",
   "execution_count": null,
   "id": "3",
   "metadata": {},
   "outputs": [],
   "source": [
    "\n",
    "age = input(\"Hur gammal är du?\")\n",
    "type(age)\n",
    "\n",
    "\n",
    "age ="
   ]
  },
  {
   "cell_type": "code",
   "execution_count": null,
   "id": "4",
   "metadata": {},
   "outputs": [],
   "source": [
    "# Type coercions\n",
    "# Konverterar datatyper från en till en annan.\n",
    "# Dubbelkolla data typen för den existerande age variabeln \n",
    "print(type(age))\n",
    "print(age)"
   ]
  },
  {
   "cell_type": "code",
   "execution_count": null,
   "id": "5",
   "metadata": {},
   "outputs": [],
   "source": [
    "#Från str(string) till en int(integer) via\n",
    "age_int = int(age)\n",
    "print(type(age_int))\n",
    "print(age_int)"
   ]
  },
  {
   "cell_type": "code",
   "execution_count": null,
   "id": "6",
   "metadata": {},
   "outputs": [],
   "source": [
    "#str\n",
    "name = \"Johnny\"\n",
    "#int\n",
    "height = 200\n",
    "#float\n",
    "exact_height = 196.53\n",
    "#bool\n",
    "is_student = True\n",
    "\n",
    "\n",
    "print(type(name)) #string\n",
    "print(type(height)) # integer\n",
    "print(type(exact_height)) #floating point value\n",
    "print(type(is_student)) #bool"
   ]
  },
  {
   "cell_type": "code",
   "execution_count": null,
   "id": "7",
   "metadata": {},
   "outputs": [],
   "source": []
  }
 ],
 "metadata": {
  "kernelspec": {
   "display_name": ".venv (3.13.5)",
   "language": "python",
   "name": "python3"
  },
  "language_info": {
   "codemirror_mode": {
    "name": "ipython",
    "version": 3
   },
   "file_extension": ".py",
   "mimetype": "text/x-python",
   "name": "python",
   "nbconvert_exporter": "python",
   "pygments_lexer": "ipython3",
   "version": "3.13.5"
  }
 },
 "nbformat": 4,
 "nbformat_minor": 5
}
