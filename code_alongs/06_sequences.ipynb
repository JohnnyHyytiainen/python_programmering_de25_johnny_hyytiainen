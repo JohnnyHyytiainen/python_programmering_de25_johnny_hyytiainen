{
 "cells": [
  {
   "cell_type": "markdown",
   "id": "0",
   "metadata": {},
   "source": [
    "# a)_Lists\n",
    "- Lists are one of the collection data type.\n",
    "- Used for storing several items in a variable. ( Several values/iterables inside )\n",
    "  - What characteristics \n",
    "  - Available operation\n",
    "  - Lists are mutable"
   ]
  },
  {
   "cell_type": "markdown",
   "id": "1",
   "metadata": {},
   "source": [
    "#### Create a list  "
   ]
  },
  {
   "cell_type": "code",
   "execution_count": null,
   "id": "2",
   "metadata": {},
   "outputs": [],
   "source": [
    "tv_program = [\"Pawn Stars\", \"Digimon\", \"Suits\", \"Nyheter\", \"Pokemon\"]"
   ]
  },
  {
   "cell_type": "markdown",
   "id": "3",
   "metadata": {},
   "source": [
    "#### Access an item (Indexing)\n",
    "- index always begins with 0 in python. 0, 1, 2, 3, 4, 5\n",
    "- use the square brackets [ ] to acces an item with a certain index."
   ]
  },
  {
   "cell_type": "code",
   "execution_count": null,
   "id": "4",
   "metadata": {},
   "outputs": [],
   "source": [
    "# För att hitt andra värdet skriv en 1 innanför []. ELLER för att gå bakifrån till sista värdet som alltid är -1\n",
    "tv_program[1] # <- = Digimon\n",
    "tv_program[-1] # <- = Pokemon"
   ]
  },
  {
   "cell_type": "code",
   "execution_count": null,
   "id": "5",
   "metadata": {},
   "outputs": [],
   "source": [
    "# To access the last item by counting from the left -> to right. Indexes ALWAYS start at 0,1,2,3....9 = (10 elements in the list)\n",
    "# [Pawn stars 0, Digimon 1, Suits 2, Nyheter 3, Pokemon 4]\n",
    "last_index = len(tv_program) -1\n",
    "tv_program[last_index]"
   ]
  },
  {
   "cell_type": "code",
   "execution_count": null,
   "id": "6",
   "metadata": {},
   "outputs": [],
   "source": [
    "# To access the last item from right <- to left. The last index ALWAYS starts at -1 no matter how long the list is.\n",
    "#[Pawn stars-5, Digimon-4, Suits-3, Nyheter,-2, Pokemon-1]\n",
    "tv_program[-5]"
   ]
  },
  {
   "cell_type": "markdown",
   "id": "7",
   "metadata": {},
   "source": [
    "#### Iterate through a list"
   ]
  },
  {
   "cell_type": "code",
   "execution_count": null,
   "id": "8",
   "metadata": {},
   "outputs": [],
   "source": [
    "for tv_shows in tv_program: #tv_shows is a temporary variable created when running the for loop.\n",
    "# Before in is the temporary variable. AFTER in is the real variable we want to iterate through in the for loop.\n",
    "    print(tv_shows)"
   ]
  },
  {
   "cell_type": "markdown",
   "id": "9",
   "metadata": {},
   "source": [
    "#### Changing values of a list item"
   ]
  },
  {
   "cell_type": "code",
   "execution_count": null,
   "id": "10",
   "metadata": {},
   "outputs": [],
   "source": [
    "tv_program # I messed up my list. I dont watch Digimon anymore, I want to replace it with another value.\n",
    "# I want to assign a new value to the nr 1 spot in the list. Which is Digimon\n",
    "tv_program[1] = \"Jackass\" # Index nr 1 = \"Jackass\"\n",
    "# I replaced the value [1] from Digimon to -> = \"Jackass\""
   ]
  },
  {
   "cell_type": "markdown",
   "id": "11",
   "metadata": {},
   "source": [
    "#### Append a new value to a list\n",
    "* Adds a new item as the last one to the list."
   ]
  },
  {
   "cell_type": "code",
   "execution_count": null,
   "id": "12",
   "metadata": {},
   "outputs": [],
   "source": [
    "# Hover over the .append and you will see that is a method to append items as the LAST item to a list.\n",
    "# tv_program is a list, therefore we can use the method called .append(value)\n",
    "tv_program.append(\"Monster Hunter\")\n",
    "tv_program"
   ]
  },
  {
   "cell_type": "markdown",
   "id": "13",
   "metadata": {},
   "source": [
    "#### Access multiple items with slicing\n",
    "- We are using -> : <- to make use of the slicing operator :"
   ]
  },
  {
   "cell_type": "code",
   "execution_count": null,
   "id": "14",
   "metadata": {},
   "outputs": [],
   "source": [
    "# Left number is included/inclusive(0) : Right number is _NOT_ inclusive. 0:2 will include 0 and 1 and _NOT_ 2\n",
    "# While using minus values (-1 etc) it is reversed.\n",
    "tv_program[-3:-1]"
   ]
  },
  {
   "cell_type": "markdown",
   "id": "15",
   "metadata": {},
   "source": [
    "#### Sorting lists"
   ]
  },
  {
   "cell_type": "code",
   "execution_count": null,
   "id": "16",
   "metadata": {},
   "outputs": [],
   "source": [
    "# by default the list will be sorted by alfanumerical ascending order (a,b,c,d,e,f,g..... / 1,2,3,4,5,6,7) depending on the item types in the list\n",
    "# Note that with sorting/reversed sorting the index of the items will be changed accordingly\n",
    "tv_program.sort()\n",
    "tv_program"
   ]
  },
  {
   "cell_type": "code",
   "execution_count": null,
   "id": "17",
   "metadata": {},
   "outputs": [],
   "source": [
    "# Sort by DESCENDING order. .sort(reverse=True) makes the list reversed compared to the statement above. \n",
    "# Note that with sorting/reversed sorting the index of the items will be changed accordingly\n",
    "tv_program.sort(reverse=True)\n",
    "tv_program"
   ]
  },
  {
   "cell_type": "markdown",
   "id": "18",
   "metadata": {},
   "source": [
    "#### List comprehension\n",
    "- Create a list with list comprehension\n",
    "- Clean code to create a list when creating a list form another iterable"
   ]
  },
  {
   "cell_type": "code",
   "execution_count": null,
   "id": "19",
   "metadata": {},
   "outputs": [],
   "source": [
    "# Example: if i have a range of number of 1,2,3,4,5.....\n",
    "# 1*1*1, 2*2*2, 3*3*3, 4*4*4, ..... 10*10*10\n",
    "# The value of each item in the list cubes is actually a calculation from items in an existing iterable (that is -> range())\n",
    "cubes = [i**3 for i in range(1, 10+1)]\n",
    "cubes\n"
   ]
  },
  {
   "cell_type": "markdown",
   "id": "20",
   "metadata": {},
   "source": [
    "# b)_Tuples\n",
    "- Tuples are less flexible than lists. (Immutable)\n",
    "- Tuples give \"better\" performance than lists. (less hardware intense in the backend of python) the reason for that is that lists are a more complicated data collection type.\n"
   ]
  },
  {
   "cell_type": "markdown",
   "id": "21",
   "metadata": {},
   "source": [
    "#### Create a tuple.\n",
    "- Tuples are made with () compared to lists -> []"
   ]
  },
  {
   "cell_type": "code",
   "execution_count": null,
   "id": "22",
   "metadata": {},
   "outputs": [],
   "source": [
    "fruits= (\"Strawberry\", \"Apple\", \"Orange\", \"Mango\")"
   ]
  },
  {
   "cell_type": "markdown",
   "id": "23",
   "metadata": {},
   "source": [
    "#### Access an item (indexing)"
   ]
  },
  {
   "cell_type": "code",
   "execution_count": null,
   "id": "24",
   "metadata": {},
   "outputs": [],
   "source": [
    "fruits[1]"
   ]
  },
  {
   "cell_type": "markdown",
   "id": "25",
   "metadata": {},
   "source": [
    "#### Accessing multiple items (slicing)"
   ]
  },
  {
   "cell_type": "code",
   "execution_count": null,
   "id": "26",
   "metadata": {},
   "outputs": [],
   "source": [
    "fruits[:2]"
   ]
  },
  {
   "cell_type": "markdown",
   "id": "27",
   "metadata": {},
   "source": [
    "#### Something that we CANNOT do is changing the value of an item of a tuple. This is because they are IMMUTABLE"
   ]
  },
  {
   "cell_type": "code",
   "execution_count": null,
   "id": "28",
   "metadata": {},
   "outputs": [],
   "source": [
    "#this gives a TypeError. 'tuple' object does not support item assignment\n",
    "fruits[1] = \"Grape\"\n",
    "# this is because tuples are IMMUTABLE(un-changeable) and not MUTABLE(changeable) as lists are."
   ]
  },
  {
   "cell_type": "markdown",
   "id": "29",
   "metadata": {},
   "source": [
    "# c)_Sets\n",
    "- Sets are more common for Data Science purposes compared to Data Engineering purposes but that does not mean it's not good to learn about sets.\n",
    "- Sets are an object mostly used for those working with mathematical sets"
   ]
  },
  {
   "cell_type": "markdown",
   "id": "30",
   "metadata": {},
   "source": [
    "#### Create a set"
   ]
  },
  {
   "cell_type": "code",
   "execution_count": null,
   "id": "31",
   "metadata": {},
   "outputs": [],
   "source": [
    "# If I create a list of emails with duplicates.\n",
    "# This is a LIST with emails in it.\n",
    "emails = [\"anna@email.com\", \"pelle@email.com\", \"babbel@email.com\", \"pelle@email.com\", \"kalle@email.com\"]\n",
    "emails"
   ]
  },
  {
   "cell_type": "code",
   "execution_count": null,
   "id": "32",
   "metadata": {},
   "outputs": [],
   "source": [
    "# Use the items in the list to create a set.\n",
    "# A set will only keep unique items.\n",
    "# A set is less hardware intense compared to lists in python. For the same reason as with Tuples.\n",
    "# A set does not care about the index order either.\n",
    "emails_set = set(emails)\n",
    "\n",
    "emails_set"
   ]
  },
  {
   "cell_type": "markdown",
   "id": "33",
   "metadata": {},
   "source": [
    "#### Intersect of two sets\n",
    "- "
   ]
  },
  {
   "cell_type": "code",
   "execution_count": null,
   "id": "34",
   "metadata": {},
   "outputs": [],
   "source": [
    "# Create two sets\n",
    "\n",
    "first_month_customers = {\"alice\", \"bob\", \"carla\", \"daniel\"}\n",
    "second_month_customers ={\"carla\", \"daniel\", \"elena\"}"
   ]
  },
  {
   "cell_type": "code",
   "execution_count": null,
   "id": "35",
   "metadata": {},
   "outputs": [],
   "source": [
    "returning_customers = first_month_customers.intersection(second_month_customers)\n",
    "returning_customers"
   ]
  },
  {
   "cell_type": "markdown",
   "id": "36",
   "metadata": {},
   "source": [
    "#### Union of two sets"
   ]
  },
  {
   "cell_type": "code",
   "execution_count": null,
   "id": "37",
   "metadata": {},
   "outputs": [],
   "source": [
    "all_customers = first_month_customers.union(second_month_customers)\n",
    "all_customers"
   ]
  },
  {
   "cell_type": "markdown",
   "id": "38",
   "metadata": {},
   "source": [
    "#### Except\n"
   ]
  },
  {
   "cell_type": "code",
   "execution_count": null,
   "id": "39",
   "metadata": {},
   "outputs": [],
   "source": [
    "onetime_customer = all_customers - returning_customers\n",
    "onetime_customer\n"
   ]
  },
  {
   "cell_type": "code",
   "execution_count": null,
   "id": "40",
   "metadata": {},
   "outputs": [],
   "source": []
  }
 ],
 "metadata": {
  "kernelspec": {
   "display_name": ".venv (3.13.5)",
   "language": "python",
   "name": "python3"
  },
  "language_info": {
   "codemirror_mode": {
    "name": "ipython",
    "version": 3
   },
   "file_extension": ".py",
   "mimetype": "text/x-python",
   "name": "python",
   "nbconvert_exporter": "python",
   "pygments_lexer": "ipython3",
   "version": "3.13.5"
  }
 },
 "nbformat": 4,
 "nbformat_minor": 5
}
