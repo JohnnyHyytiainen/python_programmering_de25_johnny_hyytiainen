{
 "cells": [
  {
   "cell_type": "markdown",
   "id": "0",
   "metadata": {},
   "source": [
    "# Lecture 13 - Object oriented programming(OOP) fundamentals.\n",
    "- "
   ]
  },
  {
   "cell_type": "code",
   "execution_count": null,
   "id": "1",
   "metadata": {},
   "outputs": [],
   "source": [
    "# define a class with name Admission\n",
    "class Admission: # klass \n",
    "    \n",
    "    # dunder __init__(dubble underscore = dunder)\n",
    "    # \"dunder init\" - initializer \n",
    "    # this method will run when you instantiate an instance from this class.\n",
    "    def __init__(self, school, name, program=\"Default program\"): # def dunder init (self, parameter, parameter):\n",
    "\n",
    "        # here we set the attributes to the values from the arguments \n",
    "        self.school = school\n",
    "        self.name = name\n",
    "        self.program = program\n",
    "\n",
    "# here we instantiate the instance person1 that is of type Admission. \n",
    "person1 = Admission(\"STI\", \"Olle\") \n",
    "person2 = Admission(name = \"Johnny\" , school = \"Defalt program\", program = \"Java\")\n",
    "person1.school\n",
    "\n"
   ]
  },
  {
   "cell_type": "code",
   "execution_count": null,
   "id": "2",
   "metadata": {},
   "outputs": [],
   "source": [
    "person1.program # here "
   ]
  },
  {
   "cell_type": "code",
   "execution_count": null,
   "id": "3",
   "metadata": {},
   "outputs": [],
   "source": [
    "person2 = Admission(name = \"Johnny\" , school = \"Defalt program\", program = \"Java\")\n",
    "person2.program"
   ]
  },
  {
   "cell_type": "markdown",
   "id": "4",
   "metadata": {},
   "source": [
    "## Note on memory\n",
    "By default the \\_\\_repr\\_\\_ of an instance is showing the memory address of WHERE the instance lives.\n",
    "- Each instance of the class lives in different memory addresses.\n",
    " - They are different objects"
   ]
  },
  {
   "cell_type": "code",
   "execution_count": null,
   "id": "5",
   "metadata": {},
   "outputs": [],
   "source": [
    "\n",
    "person1, person2"
   ]
  },
  {
   "cell_type": "code",
   "execution_count": null,
   "id": "6",
   "metadata": {},
   "outputs": [],
   "source": [
    "person3 = Admission(name = \"Johnny\" , school = \"Defalt program\", program = \"Java\")\n",
    "person3"
   ]
  },
  {
   "cell_type": "markdown",
   "id": "7",
   "metadata": {},
   "source": [
    "## implement class student"
   ]
  },
  {
   "cell_type": "code",
   "execution_count": null,
   "id": "8",
   "metadata": {},
   "outputs": [],
   "source": [
    "# 1) Define the class name\n",
    "class Student:\n",
    "    # 2) \n",
    "    def __init__(self, name, program, passing_grade, school, age):\n",
    "        # attributes\n",
    "        self.name = name \n",
    "        self.program = program\n",
    "        self.passing_grade = passing_grade\n",
    "        self.school = school\n",
    "        self.age = age\n",
    "    # method \n",
    "    def study(self):\n",
    "        print(f\"{self.name} studies {self.program}\")\n",
    "\n",
    "\n",
    "student1 = Student(name = \"Olle\", age = 33, program = \"Data Engineer\", school = \"STI\", passing_grade = True)\n",
    "student2 = Student(name = \"Pelle\", age = 98, program = \"DevOps Engineer\", school = \"Nackademin\", passing_grade = False)\n",
    "student3 = Student(name = \"Erica\", age = 34, program = \"Juridik\", school = \"SU\", passing_grade = True)\n",
    "\n",
    "\n"
   ]
  },
  {
   "cell_type": "code",
   "execution_count": null,
   "id": "9",
   "metadata": {},
   "outputs": [],
   "source": []
  },
  {
   "cell_type": "markdown",
   "id": "10",
   "metadata": {},
   "source": [
    "## \\_\\_repr\\_\\_ - dunder repper method (dubble underscore repper)\n",
    "- dunder repr is a method to represent your class to other developers.\n",
    " - usually describes how to create an instance from this class.\n",
    "    - By default we get something like <__main__.Student at 0x286a190d940> <- a memory adress"
   ]
  },
  {
   "cell_type": "code",
   "execution_count": null,
   "id": "11",
   "metadata": {},
   "outputs": [],
   "source": [
    "student1"
   ]
  },
  {
   "cell_type": "code",
   "execution_count": null,
   "id": "12",
   "metadata": {},
   "outputs": [],
   "source": [
    "# 1) Define the class name\n",
    "class Student:\n",
    "    # 2) Method dunder __init__\n",
    "    def __init__(self, name, program, passing_grade, school, age):\n",
    "        # attributes\n",
    "        self.name = name \n",
    "        self.program = program\n",
    "        self.passing_grade = passing_grade\n",
    "        self.school = school\n",
    "        self.age = age\n",
    "    # method \n",
    "    def study(self):\n",
    "        print(f\"{self.name} studies {self.program}\")\n",
    "\n",
    "    \n",
    "    def __repr__(self):\n",
    "        # student (name = \"Bolle\", program = \"Data Engineer\", school = \"STI\", age = 33, passing_grade = True)\n",
    "        return f\"Name ='{self.name}' Program = '{self.program}' \\n School = '{self.school}' age = {self.age} Passing grade = {self.passing_grade}\"\n",
    "\n",
    "\n",
    "student4 = Student(name = \"Bolle\", age = 33, program = \"Data Engineer\", school = \"STI\", passing_grade = True)\n",
    "\n",
    "student4\n"
   ]
  },
  {
   "cell_type": "code",
   "execution_count": null,
   "id": "13",
   "metadata": {},
   "outputs": [],
   "source": [
    "# printing -> will look for __str__ method, if it doesnt exist it will look for __repr__ as a fallback\n",
    "print(student4)\n"
   ]
  },
  {
   "cell_type": "code",
   "execution_count": null,
   "id": "14",
   "metadata": {},
   "outputs": [],
   "source": [
    "# 1) Define the class name\n",
    "class Student:\n",
    "    # 2) Method dunder __init__\n",
    "    def __init__(self, name, program, passing_grade, school, age):\n",
    "        # attributes\n",
    "        self.name = name \n",
    "        self.program = program\n",
    "        self.passing_grade = passing_grade\n",
    "        self.school = school\n",
    "        self.age = age\n",
    "    # method dunder str will print out everything as a nicer string\n",
    "    def __str__(self):\n",
    "        print(f\"{self.name} studies {self.program}\")\n",
    "    # method\n",
    "    def __str__(self):\n",
    "        return f\"{self.name} is studying {self.program} at {self.school}\"\n",
    "\n",
    "\n",
    "student5 = Student(name = \"Molle\", age = 33, program = \"Data Engineer\", school = \"STI\", passing_grade = True)\n",
    "\n",
    "print(student5)\n"
   ]
  },
  {
   "cell_type": "code",
   "execution_count": null,
   "id": "15",
   "metadata": {},
   "outputs": [],
   "source": [
    "str(student5)"
   ]
  },
  {
   "cell_type": "code",
   "execution_count": null,
   "id": "16",
   "metadata": {},
   "outputs": [],
   "source": [
    "student4.study()"
   ]
  },
  {
   "cell_type": "code",
   "execution_count": null,
   "id": "17",
   "metadata": {},
   "outputs": [],
   "source": []
  }
 ],
 "metadata": {
  "kernelspec": {
   "display_name": ".venv (3.13.5)",
   "language": "python",
   "name": "python3"
  },
  "language_info": {
   "codemirror_mode": {
    "name": "ipython",
    "version": 3
   },
   "file_extension": ".py",
   "mimetype": "text/x-python",
   "name": "python",
   "nbconvert_exporter": "python",
   "pygments_lexer": "ipython3",
   "version": "3.13.5"
  }
 },
 "nbformat": 4,
 "nbformat_minor": 5
}
