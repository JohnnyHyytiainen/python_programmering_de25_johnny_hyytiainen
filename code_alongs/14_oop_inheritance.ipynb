{
 "cells": [
  {
   "cell_type": "markdown",
   "id": "0",
   "metadata": {},
   "source": [
    "# Lecture 14 - OOP INHERITANCE.\n"
   ]
  },
  {
   "cell_type": "code",
   "execution_count": null,
   "id": "1",
   "metadata": {},
   "outputs": [],
   "source": [
    "\n",
    "class Person: # the class\n",
    "    def __init__(self, name:str, age:int):\n",
    "        self._name = name\n",
    "        self.age = age\n",
    "\n",
    "    # getter\n",
    "    @property\n",
    "    def name(self):\n",
    "        return self._name\n",
    "    # getter\n",
    "    @property\n",
    "    def age(self):\n",
    "        return self._age\n",
    "    # setter\n",
    "    @age.setter\n",
    "    def age(self, value: int):\n",
    "        if not isinstance(value, int):\n",
    "            raise TypeError(f\"Age must be an int, not {value}\")\n",
    "\n",
    "        if value < 0 or value > 130:\n",
    "            raise ValueError(f\"Age must be between 0 and 129. Not {value}\")\n",
    "\n",
    "        self._age = value\n",
    "    def say_hi(self):\n",
    "        print(f\"{self.name} says hi!\")\n",
    "\n",
    "p1 = Person(\"Örjan\", 25)\n",
    "try: \n",
    "    # setter not defined\n",
    "    p1.name = \"Börje\"\n",
    "except AttributeError as err:\n",
    "    print(err)\n",
    "\n",
    "# used getter\n",
    "p1.name\n",
    "\n",
    "p1.say_hi()\n",
    "\n"
   ]
  },
  {
   "cell_type": "code",
   "execution_count": null,
   "id": "2",
   "metadata": {},
   "outputs": [],
   "source": [
    "try:\n",
    "    p2 = Person(\"Elias\", 2)\n",
    "except ValueError as err:\n",
    "    print(err)\n",
    "\n",
    "\n",
    "try:\n",
    "    p3 = Person(\"Rövhalt\", \"d\")\n",
    "except TypeError as err:\n",
    "    print(err)\n"
   ]
  },
  {
   "cell_type": "markdown",
   "id": "3",
   "metadata": {},
   "source": [
    "## implement Student"
   ]
  },
  {
   "cell_type": "code",
   "execution_count": null,
   "id": "4",
   "metadata": {},
   "outputs": [],
   "source": [
    "class Student(Person):\n",
    "    def __init__ (self, name:str, age:str, language:str):\n",
    "        # This goes to the parent class and uses its __init__\n",
    "        super().__init__(name,age)\n",
    "        self.language = language\n",
    "\n",
    "    # Overrides say_hi() -> when calling say_hi() from Student\n",
    "    # it will call this say_hi() and not the parent one\n",
    "    def say_hi(self):\n",
    "        print(f\"Student {self.name} says hi in {self.language}!\")\n",
    "\n",
    "\n",
    "try:\n",
    "    s1 = Student(\"Floki\", 131, language=\"Farsi\")\n",
    "except ValueError as err:\n",
    "    print(err)\n",
    "\n",
    "s2 = Student(\"Björn\", 19, language = \"Python\")\n",
    "s2.say_hi()"
   ]
  },
  {
   "cell_type": "code",
   "execution_count": null,
   "id": "5",
   "metadata": {},
   "outputs": [],
   "source": [
    "from oldcoins import OldCoinsStash\n",
    "class Viking(Person):\n",
    "    def __init__ (self, name: str, age: int):\n",
    "        super().__init__(name, age)\n",
    "\n",
    "        # composition - \"has a\" relation.\n",
    "        self.stash = OldCoinsStash(name)\n",
    "\n",
    "\n",
    "viking_ubbe = Viking(\"Ubbe\", 31)\n",
    "viking_ubbe.say_hi()\n",
    "\n",
    "\n",
    "viking_ubbe.stash\n",
    "\n",
    "viking_ubbe.stash.deposit(100, 10)\n",
    "\n",
    "viking_ubbe.stash.check_balance()\n"
   ]
  },
  {
   "cell_type": "code",
   "execution_count": null,
   "id": "6",
   "metadata": {},
   "outputs": [],
   "source": [
    "viking_ivar = Viking(\"Ivar\", 99)"
   ]
  },
  {
   "cell_type": "code",
   "execution_count": null,
   "id": "7",
   "metadata": {},
   "outputs": [],
   "source": []
  }
 ],
 "metadata": {
  "kernelspec": {
   "display_name": ".venv (3.13.5)",
   "language": "python",
   "name": "python3"
  },
  "language_info": {
   "codemirror_mode": {
    "name": "ipython",
    "version": 3
   },
   "file_extension": ".py",
   "mimetype": "text/x-python",
   "name": "python",
   "nbconvert_exporter": "python",
   "pygments_lexer": "ipython3",
   "version": "3.13.5"
  }
 },
 "nbformat": 4,
 "nbformat_minor": 5
}
