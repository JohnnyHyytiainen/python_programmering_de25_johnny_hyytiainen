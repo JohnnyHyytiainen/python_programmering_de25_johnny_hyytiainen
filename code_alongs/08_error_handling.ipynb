{
 "cells": [
  {
   "cell_type": "markdown",
   "id": "0",
   "metadata": {},
   "source": [
    "# Error handling \n",
    "- There are a wast array of different kind of errors when programming. This lesson focuses on how to identify WHERE the error is, what TYPE of error it is and `eventually` with more experience and and enough errors fixed, how to resolve them.\n",
    "\n",
    "- add error handling for blocks of code that can encounter errors\n",
    " - because we dont want to crash the program\n",
    "\n",
    " - here we will focus on and learn how to:\n",
    "    - make use of something called `try/except`blocks\n"
   ]
  },
  {
   "cell_type": "code",
   "execution_count": null,
   "id": "1",
   "metadata": {},
   "outputs": [],
   "source": [
    "# without error handling, the code below will \"crash\" (gives you feedback with an error and error-code)\n",
    "print(y)\n"
   ]
  },
  {
   "cell_type": "code",
   "execution_count": null,
   "id": "2",
   "metadata": {},
   "outputs": [],
   "source": [
    "# try/except to the code above\n",
    "try: # under the try block, put the suspicious/potentially problematic block of code.\n",
    "    print(y) # TRY: print(y)\n",
    "except: # when the try block encounters errors, run the except block instead of crashing and giving you error codes.\n",
    "   print(\"There is an error in the try block\")"
   ]
  },
  {
   "cell_type": "code",
   "execution_count": null,
   "id": "3",
   "metadata": {},
   "outputs": [],
   "source": [
    "# How to make use of multiple except blocks?\n",
    "try:\n",
    "    print(y)\n",
    "except NameError:\n",
    "    print(\"you encountered a NameError: name is not defined \")\n",
    "except:\n",
    "    print(\"some other error happend\")"
   ]
  },
  {
   "cell_type": "code",
   "execution_count": null,
   "id": "4",
   "metadata": {},
   "outputs": [],
   "source": [
    "# an example that is not NameError:\n",
    "try:\n",
    "    print(0/0)\n",
    "except NameError:\n",
    "    print(\"There is a NameError:\")\n",
    "except ZeroDivisionError as error:\n",
    "    print(error, \"error\")\n"
   ]
  },
  {
   "cell_type": "code",
   "execution_count": null,
   "id": "5",
   "metadata": {},
   "outputs": [],
   "source": [
    "# make use of the error message from the error code.\n",
    "try:\n",
    "    print(y)\n",
    "except NameError as err: # I save the NameError as a new variable(err) i can call in a print statement\n",
    "    print(\"error\", err)"
   ]
  },
  {
   "cell_type": "code",
   "execution_count": null,
   "id": "6",
   "metadata": {},
   "outputs": [],
   "source": []
  }
 ],
 "metadata": {
  "kernelspec": {
   "display_name": ".venv (3.13.5)",
   "language": "python",
   "name": "python3"
  },
  "language_info": {
   "codemirror_mode": {
    "name": "ipython",
    "version": 3
   },
   "file_extension": ".py",
   "mimetype": "text/x-python",
   "name": "python",
   "nbconvert_exporter": "python",
   "pygments_lexer": "ipython3",
   "version": "3.13.5"
  }
 },
 "nbformat": 4,
 "nbformat_minor": 5
}
