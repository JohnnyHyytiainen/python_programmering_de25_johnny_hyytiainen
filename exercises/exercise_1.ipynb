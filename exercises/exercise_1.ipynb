{
 "cells": [
  {
   "cell_type": "markdown",
   "id": "4354695c",
   "metadata": {},
   "source": [
    "**Exercise 1 - Count with python**\n"
   ]
  },
  {
   "cell_type": "code",
   "execution_count": 22,
   "id": "f006f05e",
   "metadata": {},
   "outputs": [
    {
     "name": "stdout",
     "output_type": "stream",
     "text": [
      "Svaret är:  5.0\n"
     ]
    }
   ],
   "source": [
    "# 0. Pythagorean theorem (*)\n",
    "# a) A right angled triangle has the catheti: a = 3 and b = 4 length units. Compute the hypothenuse of the triangle. (*)\n",
    "\n",
    "from math import hypot, sqrt\n",
    "a = 3\n",
    "b = 4\n",
    "print(\"Svaret är: \",hypot(a,b))"
   ]
  },
  {
   "cell_type": "code",
   "execution_count": 23,
   "id": "60d70d07",
   "metadata": {},
   "outputs": [
    {
     "name": "stdout",
     "output_type": "stream",
     "text": [
      "Svaret är:  4.9\n"
     ]
    }
   ],
   "source": [
    "# b) A right angled triangle has hypothenuse c = 7.0 and a cathetus a = 5.0 length units. Compute the other cathetus and round to one decimal. (*)\n",
    "from math import hypot, sqrt\n",
    "c = 7.0\n",
    "a = 5.0\n",
    "b = sqrt(c**2 - a**2)\n",
    "b_avrundad = round(b, 1)\n",
    "print(\"Svaret är: \", b_avrundad)"
   ]
  },
  {
   "cell_type": "markdown",
   "id": "9de3ed03",
   "metadata": {},
   "source": [
    "**2. Classification accuracy (*)**\n",
    "**A machine learning model has been trained to detect fire. Here is the result of its predictions:**  \n",
    "\n",
    "True Positive (TP)   \n",
    "Reality: fire  \n",
    "Predicted: fire  \n",
    "Number of TP: 2  \n",
    "\n",
    "False Positive (FP)  \n",
    "Reality: no fire  \n",
    "Predicted: fire  \n",
    "Number of FP: 2  \n",
    "\n",
    "False Negative (FN)  \n",
    "Reality: fire  \n",
    "Predicted: no fire  \n",
    "Number of FN: 11  \n",
    "\n",
    "True Negative (TN)  \n",
    "Reality: no fire  \n",
    "Predicted: no fire  \n",
    "Number of TN: 985  \n",
    "\n",
    "**Calculated the accuracy using the following formula:**\n",
    "\n",
    "accuracy=TP+TN / TP+TN+FP+FN  \n",
    "\n",
    "**Is this a good model? Why? Why not?**\n",
    "\n",
    "Answer: No it is **not** a good model.  \n",
    "2+2+11+985 = 1000  \n",
    "(TP+TN) 2+985 = 987  \n",
    "987/1000=0,987 = 98.7% \n",
    "98.7% accurate  \n",
    "TP / (TP + FN) = 2 / (2 + 11) = 2 / 13 ~ 15.4%. This model detected 2 out of 13 real fires.  \n",
    "TP / (TP + FP) = 2 / (2 + 2) = 2 / 4 = 50%. This model predicted there would be fire 4 times BUT out of those 4 times the prediction was false positive(FP).  \n",
    "While a 98.7% number seems good, almost too good to be true. Which they are.\n",
    "\n"
   ]
  },
  {
   "cell_type": "code",
   "execution_count": 17,
   "id": "bca89d07",
   "metadata": {},
   "outputs": [
    {
     "name": "stdout",
     "output_type": "stream",
     "text": [
      "Filename: sales_data.csv\n",
      "Size (MB): 24.7\n",
      "Last Modified Year: 2023\n"
     ]
    }
   ],
   "source": [
    "# 3. File metadata - format print (*)\n",
    "# There is a file with the following metadata:\n",
    "# name: orders_data.csv\n",
    "# file size: 3.14mb\n",
    "# modified 2024\n",
    "# Create variables for each of them and print out the following to the screen \n",
    "# === File metadata ===\n",
    "# Filename: sales_data.csv\n",
    "# Size (MB): 24.7\n",
    "# Last Modified Year: 2023\n",
    "\n",
    "orders_data = \"sales_data.csv\" # string(str)\n",
    "file_size = 24.7 # float\n",
    "modified = 2023 # integer(int)\n",
    "\n",
    "print(\"Filename:\", orders_data) # prints the \"str\", str\n",
    "print(\"Size (MB):\", file_size) # prints the \"str\", float\n",
    "print(\"Last Modified Year:\", modified) # prints the \"str\", int"
   ]
  },
  {
   "cell_type": "code",
   "execution_count": null,
   "id": "14d19cd5",
   "metadata": {},
   "outputs": [],
   "source": []
  },
  {
   "cell_type": "code",
   "execution_count": 13,
   "id": "922a5d91",
   "metadata": {},
   "outputs": [
    {
     "name": "stdout",
     "output_type": "stream",
     "text": [
      "Your monitor is: 2.54 CM\n"
     ]
    }
   ],
   "source": [
    "# 4. Unit converter - inch to cm (*)\n",
    "# Screen sizes are defined using inches for example my computer has 15\" and it corresponds to the diagonal of the screen. \n",
    "# Let the user type in a value in inches and output the result in centimeters.\n",
    "\n",
    "inch=int(input(\"Type in your monitors inches:\")) # create a variable called inch, it transforms the input(str) from the user in to an int\n",
    "\n",
    "cm = 2.54*inch # new variable called cm that takes 2.54 and multiplies it with user input.\n",
    "\n",
    "print(\"Your monitor is:\", round(cm,2), \"CM\") # prints a str, rounds the cm variable 2.54*USER INPUT with 2(,2) decimals"
   ]
  },
  {
   "cell_type": "code",
   "execution_count": 16,
   "id": "f40843fb",
   "metadata": {},
   "outputs": [
    {
     "name": "stdout",
     "output_type": "stream",
     "text": [
      "You wrote this many characters: 10\n"
     ]
    }
   ],
   "source": [
    "# 5. Count characters in a text (*)\n",
    "# Create a program to let a user input a text, count the number of characters and print it out to the screen.\n",
    "# Space can also be counted as a character here.\n",
    "\n",
    "char=(input(\"Please, write something:\"))\n",
    "\n",
    "print(\"You wrote this many characters:\", len(char))"
   ]
  },
  {
   "cell_type": "code",
   "execution_count": 29,
   "id": "d253225f",
   "metadata": {},
   "outputs": [
    {
     "name": "stdout",
     "output_type": "stream",
     "text": [
      "<class 'bool'> <class 'int'> <class 'float'> <class 'str'> <class 'list'> <class 'tuple'>\n",
      "These are all the types in the exercise using the type() function with an added type, tuple.\n"
     ]
    }
   ],
   "source": [
    "# 6. Data types (*)\n",
    "# Create variables of type bool, int, float, str and list. Then use type function and check each variables type.\n",
    "\n",
    "type1 = False\n",
    "type2 = 1\n",
    "type3 = 1.5\n",
    "type4 = \"Hello class\"\n",
    "type5 = [\"This\", \"is\", \"my\", \"list\"]\n",
    "type6 = (\"This\", \"is\", \"a\", \"tuple\")\n",
    "\n",
    "print(type(type1), type(type2), type(type3), type(type4), type(type5), type(type6))\n",
    "print('These are all the types in the exercise using the type() function with an added type, tuple.')\n",
    "\n"
   ]
  },
  {
   "cell_type": "markdown",
   "id": "f0357930",
   "metadata": {},
   "source": [
    "**7. Theory**  \n",
    "**a) What is the difference between input() and print() in Python?**  \n",
    "Print() does what is says, it prints. You can see it as output while input() gets/takes input.  \n",
    "\n",
    "**b) What data type does the input() function return by default? How can you use it to get numeric input?**  \n",
    "The data the function returns is str(string) by default. You can for example use this function:  \n",
    "to transform the user input to an int: a=int(input).  \n",
    "\n",
    "**c) Explain how formatted string literals (f-strings) improve readability in output statements. Give an example.**  \n",
    "Even though I have't been coding for so long(I'm still doing lists and using them the long way and learning list comprehensions)  \n",
    "f-strings improve visual clarity and clearly shows which parts are literal text and which are dynamic values.  \n",
    "Thus improving the overall clarity of the output.  \n",
    "\n",
    "**d) Can a variable change its data type during runtime in Python? Show an example.**  \n",
    "Yes, for example i can write a program with a variable that holds an int(integer) and later in the same program i can change its value.  \n",
    "var = 10 <- int  \n",
    "print(var)  \n",
    "output: 10 <- int  \n",
    "\n",
    "later on in the program  \n",
    "var = \"Hello!\"  \n",
    "print(var)  \n",
    "output: Hello! <- str  \n",
    "\n",
    "**e) What does it mean that Python is \"dynamically typed\"? How is that different from statically typed languages?**  \n",
    "\n"
   ]
  }
 ],
 "metadata": {
  "kernelspec": {
   "display_name": ".venv (3.13.5)",
   "language": "python",
   "name": "python3"
  },
  "language_info": {
   "codemirror_mode": {
    "name": "ipython",
    "version": 3
   },
   "file_extension": ".py",
   "mimetype": "text/x-python",
   "name": "python",
   "nbconvert_exporter": "python",
   "pygments_lexer": "ipython3",
   "version": "3.13.5"
  }
 },
 "nbformat": 4,
 "nbformat_minor": 5
}
