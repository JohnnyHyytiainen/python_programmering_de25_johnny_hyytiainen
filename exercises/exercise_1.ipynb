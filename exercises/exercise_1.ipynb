{
 "cells": [
  {
   "cell_type": "markdown",
   "id": "4354695c",
   "metadata": {},
   "source": [
    "**Exercise 1 - Count with python**\n"
   ]
  },
  {
   "cell_type": "code",
   "execution_count": 22,
   "id": "f006f05e",
   "metadata": {},
   "outputs": [
    {
     "name": "stdout",
     "output_type": "stream",
     "text": [
      "Svaret är:  5.0\n"
     ]
    }
   ],
   "source": [
    "# 0. Pythagorean theorem (*)\n",
    "# a) A right angled triangle has the catheti: a = 3 and b = 4 length units. Compute the hypothenuse of the triangle. (*)\n",
    "\n",
    "from math import hypot, sqrt\n",
    "a = 3\n",
    "b = 4\n",
    "print(\"Svaret är: \",hypot(a,b))"
   ]
  },
  {
   "cell_type": "code",
   "execution_count": 23,
   "id": "60d70d07",
   "metadata": {},
   "outputs": [
    {
     "name": "stdout",
     "output_type": "stream",
     "text": [
      "Svaret är:  4.9\n"
     ]
    }
   ],
   "source": [
    "# b) A right angled triangle has hypothenuse c = 7.0 and a cathetus a = 5.0 length units. Compute the other cathetus and round to one decimal. (*)\n",
    "from math import hypot, sqrt\n",
    "c = 7.0\n",
    "a = 5.0\n",
    "b = sqrt(c**2 - a**2)\n",
    "b_avrundad = round(b, 1)\n",
    "print(\"Svaret är: \", b_avrundad)"
   ]
  },
  {
   "cell_type": "markdown",
   "id": "9de3ed03",
   "metadata": {},
   "source": [
    "**2. Classification accuracy (*)**\n",
    "**A machine learning model has been trained to detect fire. Here is the result of its predictions:**  \n",
    "\n",
    "True Positive (TP)   \n",
    "Reality: fire  \n",
    "Predicted: fire  \n",
    "Number of TP: 2  \n",
    "\n",
    "False Positive (FP)  \n",
    "Reality: no fire  \n",
    "Predicted: fire  \n",
    "Number of FP: 2  \n",
    "\n",
    "False Negative (FN)  \n",
    "Reality: fire  \n",
    "Predicted: no fire  \n",
    "Number of FN: 11  \n",
    "\n",
    "True Negative (TN)  \n",
    "Reality: no fire  \n",
    "Predicted: no fire  \n",
    "Number of TN: 985  \n",
    "\n",
    "**Calculated the accuracy using the following formula:**\n",
    "\n",
    "accuracy=TP+TN / TP+TN+FP+FN  \n",
    "\n",
    "**Is this a good model? Why? Why not?**\n",
    "\n",
    "Answer: No it is **not** a good model.  \n",
    "2+2+11+985 = 1000  \n",
    "(TP+TN) 2+985 = 987  \n",
    "987/1000=0,987 = 98.7% \n",
    "98.7% accurate  \n",
    "TP / (TP + FN) = 2 / (2 + 11) = 2 / 13 ~ 15.4%. This model detected 2 out of 13 real fires.  \n",
    "TP / (TP + FP) = 2 / (2 + 2) = 2 / 4 = 50%. This model predicted there would be fire 4 times BUT out of those 4 times the prediction was false positive(FP).  \n",
    "While a 98.7% number seems good, almost too good to be true. Which they are.\n",
    "\n"
   ]
  },
  {
   "cell_type": "code",
   "execution_count": 17,
   "id": "bca89d07",
   "metadata": {},
   "outputs": [
    {
     "name": "stdout",
     "output_type": "stream",
     "text": [
      "Filename: sales_data.csv\n",
      "Size (MB): 24.7\n",
      "Last Modified Year: 2023\n"
     ]
    }
   ],
   "source": [
    "# 3. File metadata - format print (*)\n",
    "# There is a file with the following metadata:\n",
    "# name: orders_data.csv\n",
    "# file size: 3.14mb\n",
    "# modified 2024\n",
    "# Create variables for each of them and print out the following to the screen \n",
    "# === File metadata ===\n",
    "# Filename: sales_data.csv\n",
    "# Size (MB): 24.7\n",
    "# Last Modified Year: 2023\n",
    "\n",
    "orders_data = \"sales_data.csv\"\n",
    "file_size = 24.7\n",
    "modified = 2023\n",
    "\n",
    "print(\"Filename:\", orders_data)\n",
    "print(\"Size (MB):\", file_size)\n",
    "print(\"Last Modified Year:\", modified)"
   ]
  },
  {
   "cell_type": "code",
   "execution_count": null,
   "id": "922a5d91",
   "metadata": {},
   "outputs": [],
   "source": []
  }
 ],
 "metadata": {
  "kernelspec": {
   "display_name": ".venv (3.13.5)",
   "language": "python",
   "name": "python3"
  },
  "language_info": {
   "codemirror_mode": {
    "name": "ipython",
    "version": 3
   },
   "file_extension": ".py",
   "mimetype": "text/x-python",
   "name": "python",
   "nbconvert_exporter": "python",
   "pygments_lexer": "ipython3",
   "version": "3.13.5"
  }
 },
 "nbformat": 4,
 "nbformat_minor": 5
}
