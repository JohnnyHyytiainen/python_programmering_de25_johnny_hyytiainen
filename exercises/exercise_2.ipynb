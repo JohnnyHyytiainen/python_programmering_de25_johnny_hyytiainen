{
 "cells": [
  {
   "cell_type": "markdown",
   "id": "0",
   "metadata": {},
   "source": [
    "**Exercise 2 - control structures**  \n",
    "**if-statements**  \n",
    "**for statements**  \n",
    "**while statements**  "
   ]
  },
  {
   "cell_type": "markdown",
   "id": "1",
   "metadata": {},
   "source": [
    "**# E2.0. Check sign (*)**\n",
    "# Ask the user to input a number and check if this number is positive, negative or zero and print it out."
   ]
  },
  {
   "cell_type": "code",
   "execution_count": null,
   "id": "2",
   "metadata": {},
   "outputs": [],
   "source": [
    "print(\"Skriv in ett nummer.\")\n",
    "num = float(input())\n",
    "if num > 0:\n",
    "    print(f\"Du skrev in {num} det större än 0.\")\n",
    "elif num == 0:\n",
    "    print(f\"Du skrev in {num}. 0 är 0.\")\n",
    "else:\n",
    "    print(f\"Du skrev in ett negativt nummer. Rättare sagt: {num}\")"
   ]
  },
  {
   "cell_type": "markdown",
   "id": "3",
   "metadata": {},
   "source": [
    "**# E2.5A Count numbers** \n",
    "**Use a for statement to count from:**\n",
    "\n",
    "# a)   -10 to 10 with one increment (*)\n",
    "# b)   -10 to 10 with two increment (*)"
   ]
  },
  {
   "cell_type": "code",
   "execution_count": null,
   "id": "4",
   "metadata": {},
   "outputs": [],
   "source": [
    "# Exercise 2.5A Count numbers\n",
    "for a in range(-10, 10+1): #A\n",
    "    print(a)\n",
    "\n",
    "for b in range(-10, 11, 2): #B\n",
    "    print(b)"
   ]
  },
  {
   "cell_type": "markdown",
   "id": "5",
   "metadata": {},
   "source": [
    "**E2.5B Arithmetic sum (*)** \n",
    "**Use a while statement to compute the following sums:** \n",
    "- a) sum=1+2+…+99+100\n",
    "\n",
    "- b) sum=1+3+5+…+97+99 Repeat these using a for statement"
   ]
  },
  {
   "cell_type": "code",
   "execution_count": null,
   "id": "6",
   "metadata": {},
   "outputs": [],
   "source": [
    "# Den enklaste lösningen A\n",
    "total_a_sum = sum(range(1, 101)) # Total_a_sum = sum range(1-101 då sista varvet är EXCLUDED, 1+2+3+4+5+6+7+8....+99+100)\n",
    "print(total_a_sum) # Print totala summan av alla iterationer"
   ]
  },
  {
   "cell_type": "code",
   "execution_count": null,
   "id": "7",
   "metadata": {},
   "outputs": [],
   "source": [
    "# Den enklaste lösningen på B\n",
    "total_b_sum = sum(range(1, 101, 2)) # Total_b_sum = sum range(1-101 då sista är excluded, 2 <-- 1-3-5-7-9 tvåan säger åt den att hoppa över med 2)\n",
    "print(total_b_sum) # Print totala summan av alla iterationer med +2 som hopp."
   ]
  },
  {
   "cell_type": "markdown",
   "id": "8",
   "metadata": {},
   "source": [
    "**1. Smallest (*)**\n",
    "\n",
    "**Ask the user to input two numbers and check which one is the smallest and print it out.**\n"
   ]
  },
  {
   "cell_type": "code",
   "execution_count": null,
   "id": "9",
   "metadata": {},
   "outputs": [],
   "source": [
    "print(\"Du ska nu få skriva in 2 nummer.\")\n",
    "num1 = float(input())\n",
    "num2 = float(input())\n",
    "print(min(num1, num2))"
   ]
  },
  {
   "cell_type": "markdown",
   "id": "10",
   "metadata": {},
   "source": []
  },
  {
   "cell_type": "markdown",
   "id": "11",
   "metadata": {},
   "source": []
  }
 ],
 "metadata": {
  "kernelspec": {
   "display_name": ".venv (3.13.5)",
   "language": "python",
   "name": "python3"
  },
  "language_info": {
   "codemirror_mode": {
    "name": "ipython",
    "version": 3
   },
   "file_extension": ".py",
   "mimetype": "text/x-python",
   "name": "python",
   "nbconvert_exporter": "python",
   "pygments_lexer": "ipython3",
   "version": "3.13.5"
  }
 },
 "nbformat": 4,
 "nbformat_minor": 5
}
