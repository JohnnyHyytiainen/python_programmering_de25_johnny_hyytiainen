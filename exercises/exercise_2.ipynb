{
 "cells": [
  {
   "cell_type": "markdown",
   "id": "0",
   "metadata": {},
   "source": [
    "**Exercise 2 - control structures**  \n",
    "**if-statements**  \n",
    "**for statements**  \n",
    "**while statements**  "
   ]
  },
  {
   "cell_type": "markdown",
   "id": "1",
   "metadata": {},
   "source": [
    "**# E2.0. Check sign (*)**\n",
    "# Ask the user to input a number and check if this number is positive, negative or zero and print it out."
   ]
  },
  {
   "cell_type": "code",
   "execution_count": null,
   "id": "2",
   "metadata": {},
   "outputs": [],
   "source": [
    "print(\"Skriv in ett nummer.\")\n",
    "num = float(input())\n",
    "if num > 0:\n",
    "    print(f\"Du skrev in {num} det större än 0.\")\n",
    "elif num == 0:\n",
    "    print(f\"Du skrev in {num}. 0 är 0.\")\n",
    "else:\n",
    "    print(f\"Du skrev in ett negativt nummer. Rättare sagt: {num}\")"
   ]
  },
  {
   "cell_type": "markdown",
   "id": "3",
   "metadata": {},
   "source": [
    "# E2.5A Count numbers\n",
    "**Use a for statement to count from:**\n",
    "\n",
    "**a)   -10 to 10 with one increment (*)**\n",
    "**b)   -10 to 10 with two increment (*)**\n",
    "\n",
    "# E2.5B Arithmetic sum (*)\n",
    "**Use a while statement to compute the following sums:** "
   ]
  },
  {
   "cell_type": "code",
   "execution_count": null,
   "id": "4",
   "metadata": {},
   "outputs": [],
   "source": [
    "# Exercise 2.5A Count numbers\n",
    "for a in range(-10, 10+1): #A\n",
    "    print(a)\n",
    "\n",
    "for b in range(-10, 11, 2): #B\n",
    "    print(b)"
   ]
  },
  {
   "cell_type": "markdown",
   "id": "5",
   "metadata": {},
   "source": [
    "#### E2.5B Arithmetic sum (*)** \n",
    "**Use a while statement to compute the following sums:** \n",
    "- a) sum=1+2+…+99+100\n",
    "\n",
    "- b) sum=1+3+5+…+97+99 Repeat these using a for statement"
   ]
  },
  {
   "cell_type": "code",
   "execution_count": null,
   "id": "6",
   "metadata": {},
   "outputs": [],
   "source": [
    "# Den enklaste lösningen A\n",
    "total_a_sum = sum(range(1, 101)) # Total_a_sum = sum range(1-101 då sista varvet är EXCLUDED, 1+2+3+4+5+6+7+8....+99+100)\n",
    "print(total_a_sum) # Print totala summan av alla iterationer"
   ]
  },
  {
   "cell_type": "code",
   "execution_count": null,
   "id": "7",
   "metadata": {},
   "outputs": [],
   "source": [
    "# Den enklaste lösningen på B\n",
    "total_b_sum = sum(range(1, 101, 2)) # Total_b_sum = sum range(1-101 då sista är excluded, 2 <-- 1-3-5-7-9 tvåan säger åt den att hoppa över med 2)\n",
    "print(total_b_sum) # Print totala summan av alla iterationer med +2 som hopp."
   ]
  },
  {
   "cell_type": "markdown",
   "id": "8",
   "metadata": {},
   "source": [
    "# 1. Smallest (*)  \n",
    "\n",
    "**Ask the user to input two numbers and check which one is the smallest and print it out.**\n"
   ]
  },
  {
   "cell_type": "code",
   "execution_count": null,
   "id": "9",
   "metadata": {},
   "outputs": [],
   "source": [
    "print(\"Du ska nu få skriva in 2 nummer.\")\n",
    "num1 = float(input())\n",
    "num2 = float(input())\n",
    "print(min(num1, num2))"
   ]
  },
  {
   "attachments": {
    "image.png": {
     "image/png": "[encoded data removed]"
    }
   },
   "cell_type": "markdown",
   "id": "10",
   "metadata": {},
   "source": [
    "# 6.Multiplication game (*)\n",
    "** a) Create a multiplication game following this flow chart:**  \n",
    "\n",
    "![image.png](attachment:image.png)\n"
   ]
  },
  {
   "cell_type": "code",
   "execution_count": null,
   "id": "11",
   "metadata": {},
   "outputs": [],
   "source": [
    "import random as rnd # importera random modulen\n",
    "poang = 0 # Ny för att räkna poängen\n",
    "\n",
    "while True: \n",
    "    number1 = rnd.randint(1,10)\n",
    "    number2 = rnd.randint(1,10)\n",
    "    korrekt_svar = number1 * number2\n",
    "    try: # säkra heltals input\n",
    "        usr_svar = int(input(f\"Vad är: {number1}x{number2}?\"))\n",
    "    except ValueError:\n",
    "        print(\"Det var inte ett tal, försök igen!\")\n",
    "        continue # hoppa till nästa varv i samma while\n",
    "\n",
    "    if usr_svar == korrekt_svar:\n",
    "        print(\"Korrekt!\")\n",
    "        poang += 1\n",
    "    else:\n",
    "        print(f\"{usr_svar} är tyvärr fel. Rätt svar är: {korrekt_svar}\")\n",
    "\n",
    "    spela_igen = input(\"Vill du spela igen? Tryck på y för att spela igen?\").strip().lower()\n",
    "    \n",
    "    if spela_igen != \"y\":\n",
    "        print(f\"Tack för att du spelade. Din poäng är: {poang}\")\n",
    "        break"
   ]
  },
  {
   "cell_type": "markdown",
   "id": "12",
   "metadata": {},
   "source": [
    "# 7. Multiplication table (*)\n",
    "\n",
    "**Use for statement(s) to:**\n",
    "- A)   print out the 6th multiplication table from 0 to 10 (*)\n",
    "- B)   print out a full multiplication table from 0 to 10. (**)\n",
    "- (Hint: Use nested for-loops, which means a for-loop in a for-loop. To format the table nicely, use f-string: print(f\"{number :4}\", end = \"\") )"
   ]
  },
  {
   "cell_type": "code",
   "execution_count": null,
   "id": "13",
   "metadata": {},
   "outputs": [],
   "source": [
    "# A ) I exemplet under, ersätt siffran i t = 6 för att enbart räkna ut en rad.\n",
    "t = 6\n",
    "for m in range(11): # in range (0, 11) <-- behövs ej, det är långform. in range(11) = kortform och mer stilrent. K I S S \n",
    "    p = t * m\n",
    "    print(f\"{t} x {m} = {p}\")"
   ]
  },
  {
   "cell_type": "code",
   "execution_count": null,
   "id": "14",
   "metadata": {},
   "outputs": [],
   "source": [
    "# B ) Full tabell 0-10. in range (0, 11) = långform, det behövs ej. in range(11) <-- detta är allt som behövs, kortform och stilrent. K I S S \n",
    "for rad in range(11): # Hur många radet ska det vara? Multiplikationstabellen för 1-10 (range för rader):\n",
    "    print(f\"Rad: {rad:>3}\", end=\"\")\n",
    "    for kolumn in range(11): # Hur många kulumner ska det vara? Multiplikationstabellen för 1-10(range för kolumner):\n",
    "        produkt = rad * kolumn # produkt = beräkningen. Rader gånger kolumn (beräkna)\n",
    "        print(f\"{produkt:4}\", end = \" \") # (f-string med :4))\n",
    "    print()  # Ny rad för fint format"
   ]
  },
  {
   "cell_type": "code",
   "execution_count": null,
   "id": "15",
   "metadata": {},
   "outputs": [],
   "source": []
  }
 ],
 "metadata": {
  "kernelspec": {
   "display_name": ".venv (3.13.5)",
   "language": "python",
   "name": "python3"
  },
  "language_info": {
   "codemirror_mode": {
    "name": "ipython",
    "version": 3
   },
   "file_extension": ".py",
   "mimetype": "text/x-python",
   "name": "python",
   "nbconvert_exporter": "python",
   "pygments_lexer": "ipython3",
   "version": "3.13.5"
  }
 },
 "nbformat": 4,
 "nbformat_minor": 5
}
