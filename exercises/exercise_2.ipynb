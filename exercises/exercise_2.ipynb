{
 "cells": [
  {
   "cell_type": "markdown",
   "id": "0",
   "metadata": {},
   "source": [
    "**Exercise 2 - control structures**  \n",
    "**if-statements**  \n",
    "**for statements**  \n",
    "**while statements**  "
   ]
  },
  {
   "cell_type": "code",
   "execution_count": null,
   "id": "1",
   "metadata": {},
   "outputs": [],
   "source": [
    "# E2.0. Check sign (*)\n",
    "# Ask the user to input a number and check if this number is positive, negative or zero and print it out.\n",
    "\n",
    "print(\"Skriv in ett nummer.\")\n",
    "num = float(input())\n",
    "if num > 0:\n",
    "    print(f\"Du skrev in {num} det större än 0.\")\n",
    "elif num == 0:\n",
    "    print(f\"Du skrev in {num}. 0 är 0.\")\n",
    "else:\n",
    "    print(f\"Du skrev in ett negativt nummer. Rättare sagt: {num}\")"
   ]
  },
  {
   "cell_type": "code",
   "execution_count": null,
   "id": "2",
   "metadata": {},
   "outputs": [],
   "source": [
    "# E2.1. Smallest (*)\n",
    "# Ask the user to input two numbers and check which one is the smallest and print it out.\n",
    "\n",
    "print(\"Du ska nu få skriva in 2 nummer.\")\n",
    "num1 = float(input())\n",
    "num2 = float(input())\n",
    "print(min(num1, num2))\n"
   ]
  },
  {
   "cell_type": "code",
   "execution_count": null,
   "id": "3",
   "metadata": {},
   "outputs": [],
   "source": [
    "# E2.2 Medicine (*)\n",
    "# The information in the following table is stated in a medicine package. Also it is stated that for children weight is more important than age.\n",
    "\n"
   ]
  },
  {
   "cell_type": "code",
   "execution_count": null,
   "id": "4",
   "metadata": {},
   "outputs": [],
   "source": [
    "# E2.3"
   ]
  },
  {
   "cell_type": "code",
   "execution_count": null,
   "id": "5",
   "metadata": {},
   "outputs": [],
   "source": [
    "# E2.4"
   ]
  },
  {
   "cell_type": "code",
   "execution_count": null,
   "id": "6",
   "metadata": {},
   "outputs": [],
   "source": [
    "# E2.5\n",
    "# Use a for statement to count from:\n",
    "\n",
    "# a)   -10 to 10 with one increment (*)\n",
    "# b)   -10 to 10 with two increment (*)\n",
    "\n",
    "\n",
    "# siffror=[-10, -9, -8, -7, -6, -5, -4, -3, -2, -1, 0, 1, 2, 3, 4, 5, 6, 7, 8, 9, 10] Med lista, onödigt mycket jobb\n",
    "# for i in range(len(siffror)):\n",
    "    # print(siffror[i])\n",
    "\n",
    "#for a in range(-10, 10+1):\n",
    " #   print(a)\n",
    "\n",
    "for b in range(-10, 11, 2):\n",
    "    print(b)"
   ]
  },
  {
   "cell_type": "code",
   "execution_count": null,
   "id": "7",
   "metadata": {},
   "outputs": [],
   "source": []
  }
 ],
 "metadata": {
  "kernelspec": {
   "display_name": ".venv (3.13.5)",
   "language": "python",
   "name": "python3"
  },
  "language_info": {
   "codemirror_mode": {
    "name": "ipython",
    "version": 3
   },
   "file_extension": ".py",
   "mimetype": "text/x-python",
   "name": "python",
   "nbconvert_exporter": "python",
   "pygments_lexer": "ipython3",
   "version": "3.13.5"
  }
 },
 "nbformat": 4,
 "nbformat_minor": 5
}
