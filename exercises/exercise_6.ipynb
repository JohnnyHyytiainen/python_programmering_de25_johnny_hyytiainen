{
 "cells": [
  {
   "cell_type": "markdown",
   "id": "0",
   "metadata": {},
   "source": []
  },
  {
   "cell_type": "markdown",
   "id": "1",
   "metadata": {},
   "source": [
    "# Plotter library"
   ]
  },
  {
   "cell_type": "code",
   "execution_count": null,
   "id": "2",
   "metadata": {},
   "outputs": [],
   "source": [
    "import numpy as np\n",
    "import matplotlib.pyplot as plt\n",
    "\n",
    "\n",
    "\n",
    "\n",
    "\n",
    "np.random.seed(42)\n",
    "x = np.linspace(0, 10, 100)\n",
    "y = 2 * x + 5 + np.random.normal(0, 2, size=len(x))\n",
    "\n",
    "\n",
    "\n",
    "print(f\"{x[:5] = }\")\n",
    "print(f\"{x.shape = }\")\n",
    "\n",
    "fig, ax = plt.subplots(1)\n",
    "\n",
    "ax.plot(x, y)\n",
    "ax.spines[['right', 'top']].set_visible(False)\n",
    "ax.annotate(\"Big dip in towels here\", xytext= (9,10), xy=(7.5,14.8), arrowprops={\"arrowstyle\": \"->\"})\n",
    "ax.set(title = \"Meaning of life\", xlabel = \"days in space\", ylabel = \"towels\")\n"
   ]
  },
  {
   "cell_type": "code",
   "execution_count": null,
   "id": "3",
   "metadata": {},
   "outputs": [],
   "source": [
    "annotate = AnnotatePlot(fig, ax)\n",
    "annotate.arrow(\"Big dip here\", (8, 10), (7.5, 14.8))"
   ]
  },
  {
   "cell_type": "markdown",
   "id": "4",
   "metadata": {},
   "source": [
    "# Refactor this ^ in to a class"
   ]
  },
  {
   "cell_type": "code",
   "execution_count": null,
   "id": "5",
   "metadata": {},
   "outputs": [],
   "source": [
    "class PlotAnnotator:\n",
    "    def __init__ (self, fig, ax):\n",
    "        self.fig = fig\n",
    "        self.ax = ax\n",
    "    \n",
    "    def arrow(self, label: str, start_xy: tuple[float], end_xy: tuple[float]):\n",
    "        self.ax.annotate(label, xytext=start_xy, xy=end_xy, arrowprops={\"arrowstyle\": \"->\"})\n",
    "        return self # Med return self är det möjligt att method-chain'a\n",
    "\n",
    "\n",
    "    def remove_clutter(self):\n",
    "        self.ax.spines[['right', 'top']].set_visible(False)\n",
    "        return self # Med return self är det möjligt att method-chain'a\n",
    "\n",
    "fig, ax = plt.subplots(1)\n",
    "ax.plot(x, y)\n",
    "\n",
    "\n",
    "annotator = PlotAnnotator(fig, ax)\n",
    "\n",
    "annotator.arrow(label=\"Big dip in towels here\", start_xy =(9,10), end_xy = (7.5,14.8))\n"
   ]
  },
  {
   "cell_type": "code",
   "execution_count": null,
   "id": "6",
   "metadata": {},
   "outputs": [],
   "source": []
  }
 ],
 "metadata": {
  "kernelspec": {
   "display_name": ".venv (3.13.5)",
   "language": "python",
   "name": "python3"
  },
  "language_info": {
   "codemirror_mode": {
    "name": "ipython",
    "version": 3
   },
   "file_extension": ".py",
   "mimetype": "text/x-python",
   "name": "python",
   "nbconvert_exporter": "python",
   "pygments_lexer": "ipython3",
   "version": "3.13.5"
  }
 },
 "nbformat": 4,
 "nbformat_minor": 5
}
