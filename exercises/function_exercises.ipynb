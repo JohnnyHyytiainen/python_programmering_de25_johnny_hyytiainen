{
 "cells": [
  {
   "cell_type": "code",
   "execution_count": null,
   "id": "0",
   "metadata": {},
   "outputs": [],
   "source": [
    "# ===============================\n",
    "# Funktionsträning v1 – 4 nivåer\n",
    "# ===============================\n",
    "# Coach-regler:\n",
    "# 1) Långform först (for/if + ackumulator), SEN kortform-idé som kommentar.\n",
    "# 2) Inga list comprehensions förrän en looplösning funkar.\n",
    "# 3) Arbeta en uppgift i taget. Kör filen ofta – Python stannar på första failande assert.\n",
    "# 4) Skriv gärna print-debug i början, ta bort när testen passerar.\n",
    "#\n",
    "# Kör: python functions_drills_v1.py (eller via Run i din editor)\n",
    "#\n",
    "# Varje nivå har 3 uppgifter. Nivå 4 har tuffare mönster men fortfarande “basic tools”.\n",
    "# Lycka till – små segrar räcker."
   ]
  },
  {
   "cell_type": "markdown",
   "id": "1",
   "metadata": {},
   "source": [
    "# Nivå 1 – Warm up\n",
    "# -----------------"
   ]
  },
  {
   "cell_type": "code",
   "execution_count": null,
   "id": "2",
   "metadata": {},
   "outputs": [],
   "source": [
    "# 1.1 sum_to_n\n",
    "# Skelett (tänk):\n",
    "# def sum_to_n(n):\n",
    "# total = 0\n",
    "# for i in range(1, n+1):\n",
    "# total += i\n",
    "# return total\n",
    "# Kortform-idé efteråt: return sum(range(1, n+1))\n",
    "\n",
    "# namn(argument)\n",
    "def sum_to_n(n: int) -> int: \n",
    "    \"\"\"Returnera summan 1..n. Hantera även n=0.\"\"\"\n",
    "    total = 0 # tom variabel\n",
    "    for i in range(1, n+1): # för i in range(1 argument+1)\n",
    "     total += i # tom variabel += i\n",
    "    return total # returnerar till och fyll på variabeln total\n",
    "\n",
    "\n",
    "\n",
    "assert sum_to_n(0) == 0\n",
    "assert sum_to_n(5) == 15\n",
    "assert sum_to_n(10) == 55"
   ]
  },
  {
   "cell_type": "code",
   "execution_count": null,
   "id": "3",
   "metadata": {},
   "outputs": [],
   "source": [
    "# 1.2 last_char\n",
    "# Skelett:\n",
    "# def last_char(s):\n",
    "# if s == \"\":\n",
    "# return \"\"\n",
    "# return s[-1]\n",
    "\n",
    "\n",
    "def last_char(s: str) -> str:\n",
    "    \"\"\"Returnera sista tecknet eller \"\" om strängen är tom.\"\"\"\n",
    "    if s == \"\":\n",
    "      return \"\"\n",
    "    return s[-1:]\n",
    "    \n",
    "\n",
    "assert last_char(\"\") == \"\"\n",
    "assert last_char(\"hej\") == \"j\"\n",
    "assert last_char(\"a\") == \"a\""
   ]
  },
  {
   "cell_type": "code",
   "execution_count": null,
   "id": "4",
   "metadata": {},
   "outputs": [],
   "source": [
    "# 1.3 count_evens\n",
    "# Skelett:\n",
    "# def count_evens(nums):\n",
    "# count = 0\n",
    "# for x in nums:\n",
    "# if x % 2 == 0:\n",
    "# count += 1\n",
    "# return count\n",
    "\n",
    "def count_evens(nums: list[int]) -> int:\n",
    "    \"\"\"Räkna hur många jämna tal i listan.\"\"\"\n",
    "    count = 0\n",
    "    for x in nums:\n",
    "        if x % 2 == 0:\n",
    "            count +=1\n",
    "    return count\n",
    "\n",
    "\n",
    "assert count_evens([]) == 0\n",
    "assert count_evens([1,3,5]) == 0\n",
    "assert count_evens([2,4,6]) == 3\n",
    "assert count_evens([1,2,3,4,5]) == 2"
   ]
  },
  {
   "cell_type": "code",
   "execution_count": null,
   "id": "5",
   "metadata": {},
   "outputs": [],
   "source": []
  }
 ],
 "metadata": {
  "kernelspec": {
   "display_name": ".venv (3.13.5)",
   "language": "python",
   "name": "python3"
  },
  "language_info": {
   "codemirror_mode": {
    "name": "ipython",
    "version": 3
   },
   "file_extension": ".py",
   "mimetype": "text/x-python",
   "name": "python",
   "nbconvert_exporter": "python",
   "pygments_lexer": "ipython3",
   "version": "3.13.5"
  }
 },
 "nbformat": 4,
 "nbformat_minor": 5
}
