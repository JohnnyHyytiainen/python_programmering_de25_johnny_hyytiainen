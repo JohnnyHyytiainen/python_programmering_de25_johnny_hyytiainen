{
 "cells": [
  {
   "cell_type": "markdown",
   "id": "2282a701",
   "metadata": {},
   "source": [
    "2. Theoretical exercises\n",
    "a) What is the difference between git and github?\n",
    "|\n",
    "Answer: Git is a way to version control your files locally. While Github is used for cloud storage and version control.\n",
    "A simple way for me to remember the differences between git/github is this: Git = local and github = not local(cloud storage)\n",
    "Github also allows multiple people to work on one and the same projects by cloning repositorys to a local machine, work on a project and then commit the changes locally and then push them to github.\n",
    "|\n",
    "|\n",
    "b) What is the purpose of .gitignore file?\n",
    "|\n",
    "Answer: .gitignore is a file used for things which you'd want ignored. .gitignore tells what files and folders for Git to ignore and not track. Quoted from W3Schools: \n",
    "\"The .gitignore file tells Git which files and folders to ignore (not track).\n",
    "This is useful for keeping log files, temporary files, build artifacts, or personal files out of your repository.\n",
    "Examples of files to ignore: log files, temporary files, hidden files, personal files, OS/editor files, etc.\n",
    "The .gitignore file itself is tracked by Git, so everyone using the repository ignores the same files.\"\n",
    "|\n",
    "|\n",
    "c) Why is it a good idea to work with git and github?\n",
    "|\n",
    "Answer: The previous questions (A+B) gives the answers to question C. No one wants their work to get lost because of human error\n",
    "|\n",
    "|\n",
    "Glossary\n",
    "Fill in this table either by copying this into your own markdown file or copy it into a spreadsheet if you feel that is easier to work with.\n",
    "|\n",
    "git\t- LOCAL file version control.\n",
    "|\n",
    "github - Cloud storage for file version control + quality of life group projects.\n",
    "|\n",
    "version control\t- Snapshot of saved versions, backtrack to previous working versions.\n",
    "|\n",
    "backup - The word describes itsels. A backup.\n",
    "|\n",
    "gitignore - File that tells git which files should be ignored.\n",
    "|\n",
    "commit - git commit -m \"kommentar\", you commit the version you want snapshotted.\n",
    "|\n",
    "pull - You PULL the version.\n",
    "|\n",
    "clone - You CLONE the repository.\n",
    "|\n",
    "cd - CI/CD stands for Continuous Integration and Continuous Deployment (or Continuous Delivery). Continuous delivery (CD): automatically delivers code changes to production-ready environments for approval\n",
    "|\n",
    "ls - ls is a shell command for listing files – including special files such as directories.\n",
    "|\n",
    "cd - CI/CD stands for Continuous Integration and Continuous Deployment (or Continuous Delivery). Continuous deployment (CD): automatically deploys code changes to customers directly"
   ]
  },
  {
   "cell_type": "markdown",
   "id": "1df6e7f6",
   "metadata": {},
   "source": []
  }
 ],
 "metadata": {
  "kernelspec": {
   "display_name": ".venv (3.13.5)",
   "language": "python",
   "name": "python3"
  },
  "language_info": {
   "name": "python",
   "version": "3.13.5"
  }
 },
 "nbformat": 4,
 "nbformat_minor": 5
}
