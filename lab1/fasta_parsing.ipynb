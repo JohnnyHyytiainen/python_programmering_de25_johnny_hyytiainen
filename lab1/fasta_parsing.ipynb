{
 "cells": [
  {
   "cell_type": "code",
   "execution_count": null,
   "id": "0",
   "metadata": {},
   "outputs": [],
   "source": [
    "# 1\n",
    "\n",
    "def parse_and_count(path):\n",
    "    with open(path, encoding=\"utf-8\") as f:\n",
    "        text = f.read().strip()\n",
    "    parts = text.split(\">\")[1:]\n",
    "    results = []\n",
    "    # 2\n",
    "    for block in parts:\n",
    "        lines = [ln.strip() for ln in block.splitlines() if ln.strip()]\n",
    "        sequence_id = lines[0]\n",
    "        sequence = \"\".join(lines[1:]).lower()\n",
    "    # 3\n",
    "    counts = {\"a\": 0, \"t\": 0, \"c\": 0, \"g\": 0}\n",
    "    others = 0 \n",
    "    for character in sequence:\n",
    "        if character in counts: \n",
    "            counts[character] += 1\n",
    "        else:\n",
    "            others += 1\n",
    "        # 4 \n",
    "        results.append((sequence_id, counts, others))\n",
    "    return results\n"
   ]
  },
  {
   "cell_type": "code",
   "execution_count": null,
   "id": "1",
   "metadata": {},
   "outputs": [],
   "source": [
    "# 2\n",
    "\n",
    "    for block in parts:\n",
    "        lines = [ln.strip() for ln in block.splitlines() if ln.strip()]\n",
    "        sequence_id = lines[0]\n",
    "        sequence = \"\".join(lines[1:]).lower()"
   ]
  },
  {
   "cell_type": "code",
   "execution_count": null,
   "id": "2",
   "metadata": {},
   "outputs": [],
   "source": [
    "# 3\n",
    "\n",
    "    counts = {\"a\": 0, \"t\": 0, \"c\": 0, \"g\": 0}\n",
    "    others = 0 \n",
    "    for character in sequence:\n",
    "        if character in counts: \n",
    "            counts[character] += 1\n",
    "        else:\n",
    "            others += 1\n"
   ]
  },
  {
   "cell_type": "code",
   "execution_count": null,
   "id": "3",
   "metadata": {},
   "outputs": [],
   "source": [
    "# 4 \n",
    "        results.append((sequence_id, counts, others))\n",
    "    return results\n"
   ]
  },
  {
   "cell_type": "code",
   "execution_count": null,
   "id": "4",
   "metadata": {},
   "outputs": [],
   "source": []
  }
 ],
 "metadata": {
  "kernelspec": {
   "display_name": ".venv (3.13.5)",
   "language": "python",
   "name": "python3"
  },
  "language_info": {
   "codemirror_mode": {
    "name": "ipython",
    "version": 3
   },
   "file_extension": ".py",
   "mimetype": "text/x-python",
   "name": "python",
   "nbconvert_exporter": "python",
   "pygments_lexer": "ipython3",
   "version": "3.13.5"
  }
 },
 "nbformat": 4,
 "nbformat_minor": 5
}
